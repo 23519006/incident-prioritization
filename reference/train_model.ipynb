{
 "cells": [
  {
   "cell_type": "markdown",
   "metadata": {
    "ExecuteTime": {
     "end_time": "2018-05-15T05:39:53.348806Z",
     "start_time": "2018-05-15T05:39:53.345777Z"
    }
   },
   "source": [
    "## Imports"
   ]
  },
  {
   "cell_type": "code",
   "execution_count": 1,
   "metadata": {
    "ExecuteTime": {
     "end_time": "2018-05-15T07:25:40.937012Z",
     "start_time": "2018-05-15T07:25:29.984509Z"
    }
   },
   "outputs": [],
   "source": [
    "import sys\n",
    "import nltk\n",
    "import numpy as np\n",
    "import pandas as pd\n",
    "import pickle\n",
    "# from helpers import *\n",
    "from nltk.stem.snowball import SnowballStemmer\n",
    "from sklearn.feature_extraction.text import CountVectorizer, TfidfTransformer\n",
    "from sklearn.linear_model import SGDClassifier\n",
    "from sklearn.model_selection import GridSearchCV, train_test_split\n",
    "from sklearn.naive_bayes import MultinomialNB\n",
    "from sklearn.tree import DecisionTreeClassifier\n",
    "from sklearn.svm import SVC\n",
    "from sklearn.neighbors import KNeighborsClassifier\n",
    "\n",
    "from imblearn.over_sampling import RandomOverSampler\n",
    "from imblearn.under_sampling import RandomUnderSampler\n",
    "from imblearn.pipeline import Pipeline\n",
    "\n",
    "from sklearn import metrics\n",
    "import os\n",
    "from matplotlib import pyplot as plt\n",
    "sys.path.append(\".\")\n",
    "sys.path.append(\"..\")\n",
    "# Use the Azure Machine Learning data preparation package\n",
    "# from azureml.dataprep import package"
   ]
  },
  {
   "cell_type": "markdown",
   "metadata": {},
   "source": [
    "## Set params"
   ]
  },
  {
   "cell_type": "code",
   "execution_count": 2,
   "metadata": {
    "ExecuteTime": {
     "end_time": "2018-05-15T07:25:40.945018Z",
     "start_time": "2018-05-15T07:25:40.939016Z"
    }
   },
   "outputs": [],
   "source": [
    "column_to_predict = \"urgency\"\n",
    "# Supported datasets:\n",
    "# ticket_type\n",
    "# business_service\n",
    "# category\n",
    "# impact\n",
    "# urgency\n",
    "# sub_category1\n",
    "# sub_category2\n",
    "\n",
    "classifier = \"NB\"  # Supported algorithms # \"SVM\" # \"NB\"\n",
    "use_grid_search = True  # grid search is used to find hyperparameters. Searching for hyperparameters is time consuming\n",
    "remove_stop_words = True  # removes stop words from processed text\n",
    "stop_words_lang = 'english'  # used with 'remove_stop_words' and defines language of stop words collection\n",
    "use_stemming = False  # word stemming using nltk\n",
    "fit_prior = True  # if use_stemming == True then it should be set to False ?? double check\n",
    "min_data_per_class = 1  # used to determine number of samples required for each class.Classes with less than that will be excluded from the dataset. default value is 1\n",
    "\n",
    "\n",
    "sampler = \"Over\"\n",
    "\n",
    "if classifier == \"KNN\":\n",
    "    use_grid_search = False"
   ]
  },
  {
   "cell_type": "markdown",
   "metadata": {},
   "source": [
    "## Load dataset"
   ]
  },
  {
   "cell_type": "code",
   "execution_count": 3,
   "metadata": {
    "ExecuteTime": {
     "end_time": "2018-05-15T07:25:41.218329Z",
     "start_time": "2018-05-15T07:25:40.947014Z"
    }
   },
   "outputs": [],
   "source": [
    "# loading dataset from dprep in Workbench    \n",
    "# dfTickets = package.run('AllTickets.dprep', dataflow_idx=0) \n",
    "\n",
    "# loading dataset from csv\n",
    "dfTickets = pd.read_csv(\n",
    "    './datasets/all_tickets.csv',\n",
    "    dtype=str\n",
    ")  "
   ]
  },
  {
   "cell_type": "markdown",
   "metadata": {},
   "source": [
    "## Select 'TEXT' column and remove poorly represented classes"
   ]
  },
  {
   "cell_type": "code",
   "execution_count": 4,
   "metadata": {
    "ExecuteTime": {
     "end_time": "2018-05-15T07:25:41.321758Z",
     "start_time": "2018-05-15T07:25:41.220101Z"
    }
   },
   "outputs": [
    {
     "name": "stdout",
     "output_type": "stream",
     "text": [
      "Shape of dataset before removing classes with less then 1 rows: (43107, 7)\n",
      "Number of classes before removing classes with less then 1 rows: 3\n",
      "Shape of dataset after removing classes with less then 1 rows: (43107, 7)\n",
      "Number of classes after removing classes with less then 1 rows: 3\n"
     ]
    }
   ],
   "source": [
    "text_columns = \"body\"  # \"title\" - text columns used for TF-IDF\n",
    "\n",
    "# Removing rows related to classes represented by low amount of data\n",
    "print(\"Shape of dataset before removing classes with less then \" + str(min_data_per_class) + \" rows: \"+str(dfTickets.shape))\n",
    "print(\"Number of classes before removing classes with less then \" + str(min_data_per_class) + \" rows: \"+str(len(np.unique(dfTickets[column_to_predict]))))\n",
    "bytag = dfTickets.groupby(column_to_predict).aggregate(np.count_nonzero)\n",
    "tags = bytag[bytag.body > min_data_per_class].index\n",
    "dfTickets = dfTickets[dfTickets[column_to_predict].isin(tags)]\n",
    "print(\n",
    "    \"Shape of dataset after removing classes with less then \"\n",
    "    + str(min_data_per_class) + \" rows: \"\n",
    "    + str(dfTickets.shape)\n",
    ")\n",
    "print(\n",
    "    \"Number of classes after removing classes with less then \"\n",
    "    + str(min_data_per_class) + \" rows: \"\n",
    "    + str(len(np.unique(dfTickets[column_to_predict])))\n",
    ")"
   ]
  },
  {
   "cell_type": "markdown",
   "metadata": {},
   "source": [
    "## Prepare data and labels and split them to train and test sets"
   ]
  },
  {
   "cell_type": "code",
   "execution_count": 5,
   "metadata": {
    "ExecuteTime": {
     "end_time": "2018-05-15T07:25:41.365785Z",
     "start_time": "2018-05-15T07:25:41.324755Z"
    }
   },
   "outputs": [],
   "source": [
    "labelData = dfTickets[column_to_predict]\n",
    "data = dfTickets[text_columns]\n",
    "\n",
    "# Split dataset into training and testing data\n",
    "train_data, test_data, train_labels, test_labels = train_test_split(\n",
    "    data, labelData, test_size=0.2\n",
    ")  # split data to train/test sets with 80:20 ratio"
   ]
  },
  {
   "cell_type": "markdown",
   "metadata": {},
   "source": [
    "## Extracting features from text"
   ]
  },
  {
   "cell_type": "code",
   "execution_count": 6,
   "metadata": {
    "ExecuteTime": {
     "end_time": "2018-05-15T07:25:41.374133Z",
     "start_time": "2018-05-15T07:25:41.368126Z"
    }
   },
   "outputs": [],
   "source": [
    "class StemmedCountVectorizer(CountVectorizer):\n",
    "    def build_analyzer(self):\n",
    "        analyzer = super(StemmedCountVectorizer, self).build_analyzer()\n",
    "        stemmer = SnowballStemmer(\"english\", ignore_stopwords=True)\n",
    "        return lambda doc: ([stemmer.stem(w) for w in analyzer(doc)])"
   ]
  },
  {
   "cell_type": "code",
   "execution_count": 7,
   "metadata": {
    "ExecuteTime": {
     "end_time": "2018-05-15T07:25:42.972298Z",
     "start_time": "2018-05-15T07:25:41.377130Z"
    }
   },
   "outputs": [
    {
     "data": {
      "text/plain": [
       "(34485, 10756)"
      ]
     },
     "execution_count": 7,
     "metadata": {},
     "output_type": "execute_result"
    }
   ],
   "source": [
    "# Count vectorizer\n",
    "if remove_stop_words:\n",
    "    count_vect = CountVectorizer(stop_words=stop_words_lang)\n",
    "elif use_stemming:\n",
    "    count_vect = StemmedCountVectorizer(stop_words=stop_words_lang)\n",
    "else:\n",
    "    count_vect = CountVectorizer()\n",
    "\n",
    "vectorized_data = count_vect.fit_transform(train_data)\n",
    "vectorized_data.shape"
   ]
  },
  {
   "cell_type": "code",
   "execution_count": 8,
   "metadata": {
    "ExecuteTime": {
     "end_time": "2018-05-15T07:25:43.026267Z",
     "start_time": "2018-05-15T07:25:42.975265Z"
    }
   },
   "outputs": [
    {
     "data": {
      "text/plain": [
       "(34485, 10756)"
      ]
     },
     "execution_count": 8,
     "metadata": {},
     "output_type": "execute_result"
    }
   ],
   "source": [
    "tfidf = TfidfTransformer()\n",
    "features = tfidf.fit_transform(vectorized_data)\n",
    "features.shape"
   ]
  },
  {
   "cell_type": "markdown",
   "metadata": {},
   "source": [
    "# Imbalance Fix"
   ]
  },
  {
   "cell_type": "code",
   "execution_count": 9,
   "metadata": {},
   "outputs": [],
   "source": [
    "if sampler == \"Over\":\n",
    "    imbl_samp = RandomOverSampler()\n",
    "elif sampler == \"Under\":\n",
    "    imbl_samp = RandomUnderSampler()\n",
    "else:\n",
    "    imbl_samp = RandomOverSampler()"
   ]
  },
  {
   "cell_type": "markdown",
   "metadata": {},
   "source": [
    "## Using pipeline to preprocess data and train classifier"
   ]
  },
  {
   "cell_type": "code",
   "execution_count": 10,
   "metadata": {
    "ExecuteTime": {
     "end_time": "2018-05-15T07:25:44.786016Z",
     "start_time": "2018-05-15T07:25:43.028264Z"
    },
    "scrolled": true
   },
   "outputs": [
    {
     "name": "stdout",
     "output_type": "stream",
     "text": [
      "Training NB classifier\n"
     ]
    }
   ],
   "source": [
    "# Fitting the training data into a data processing pipeline and eventually into the model itself\n",
    "if classifier == \"NB\":\n",
    "    print(\"Training NB classifier\")\n",
    "    # Building a pipeline: We can write less code and do all of the above, by building a pipeline as follows:\n",
    "    # The names ‘vect’ , ‘tfidf’ and ‘clf’ are arbitrary but will be used later.\n",
    "    # We will be using the 'text_clf' going forward.\n",
    "\n",
    "    text_clf = Pipeline([\n",
    "        ('vect', count_vect),\n",
    "        ('tfidf', TfidfTransformer()),\n",
    "        ('samp', imbl_samp),\n",
    "        ('clf', MultinomialNB(fit_prior=fit_prior))\n",
    "    ])\n",
    "    text_clf = text_clf.fit(train_data, train_labels)\n",
    "elif classifier == \"D3\":\n",
    "    print(\"Training D3 classifier\")\n",
    "    # Building a pipeline: We can write less code and do all of the above, by building a pipeline as follows:\n",
    "    # The names ‘vect’ , ‘tfidf’ and ‘clf’ are arbitrary but will be used later.\n",
    "    # We will be using the 'text_clf' going forward.\n",
    "\n",
    "    text_clf = Pipeline([\n",
    "        ('vect', count_vect),\n",
    "        ('tfidf', TfidfTransformer()),\n",
    "        ('samp', imbl_samp),\n",
    "        ('clf', DecisionTreeClassifier())\n",
    "    ])\n",
    "    text_clf = text_clf.fit(train_data, train_labels)\n",
    "elif classifier == \"SVM\":\n",
    "    print(\"Training SVM classifier\")\n",
    "    # Building a pipeline: We can write less code and do all of the above, by building a pipeline as follows:\n",
    "    # The names ‘vect’ , ‘tfidf’ and ‘clf’ are arbitrary but will be used later.\n",
    "    # We will be using the 'text_clf' going forward.\n",
    "\n",
    "    text_clf = Pipeline([\n",
    "        ('vect', count_vect),\n",
    "        ('tfidf', TfidfTransformer()),\n",
    "        ('samp', imbl_samp),\n",
    "        ('clf', SVC(kernel='linear'))\n",
    "    ])\n",
    "    text_clf = text_clf.fit(train_data, train_labels)\n",
    "elif classifier == \"KNN\":\n",
    "    print(\"Training KNN classifier\")\n",
    "    # Building a pipeline: We can write less code and do all of the above, by building a pipeline as follows:\n",
    "    # The names ‘vect’ , ‘tfidf’ and ‘clf’ are arbitrary but will be used later.\n",
    "    # We will be using the 'text_clf' going forward.\n",
    "\n",
    "    text_clf = Pipeline([\n",
    "        ('vect', count_vect),\n",
    "        ('tfidf', TfidfTransformer()),\n",
    "        ('samp', imbl_samp),\n",
    "        ('clf', KNeighborsClassifier(n_neighbors = 3))\n",
    "    ])\n",
    "    text_clf = text_clf.fit(train_data, train_labels)"
   ]
  },
  {
   "cell_type": "markdown",
   "metadata": {},
   "source": [
    "# Save Model to Pickle"
   ]
  },
  {
   "cell_type": "code",
   "execution_count": 11,
   "metadata": {},
   "outputs": [],
   "source": [
    "pickle.dump(text_clf, open('./pickle/text_'+classifier+'_'+text_columns+'_'+column_to_predict+'_model.pickle',\"wb\"))"
   ]
  },
  {
   "cell_type": "markdown",
   "metadata": {},
   "source": [
    "## Use GridSearchCV to search for best set of parameters"
   ]
  },
  {
   "cell_type": "code",
   "execution_count": 12,
   "metadata": {
    "ExecuteTime": {
     "end_time": "2018-05-15T07:26:20.271405Z",
     "start_time": "2018-05-15T07:25:44.789019Z"
    }
   },
   "outputs": [],
   "source": [
    "if use_grid_search:\n",
    "    # Grid Search\n",
    "    # Here, we are creating a list of parameters for which we would like to do performance tuning.\n",
    "    # All the parameters name start with the classifier name (remember the arbitrary name we gave).\n",
    "    # E.g. vect__ngram_range; here we are telling to use unigram and bigrams and choose the one which is optimal.\n",
    "\n",
    "    # NB parameters\n",
    "    parameters = {\n",
    "        'vect__ngram_range': [(1, 1), (1, 2)],\n",
    "        'tfidf__use_idf': (True, False)\n",
    "    }\n",
    "\n",
    "    # Next, we create an instance of the grid search by passing the classifier, parameters\n",
    "    # and n_jobs=-1 which tells to use multiple cores from user machine.\n",
    "    \n",
    "\n",
    "    gs_clf = GridSearchCV(text_clf, parameters, n_jobs=-1)\n",
    "    \n",
    "    \n",
    "    gs_clf = gs_clf.fit(train_data, train_labels)\n",
    "\n",
    "    # To see the best mean score and the params, run the following code\n",
    "    gs_clf.best_score_\n",
    "    gs_clf.best_params_"
   ]
  },
  {
   "cell_type": "markdown",
   "metadata": {
    "ExecuteTime": {
     "end_time": "2018-05-15T07:26:20.280680Z",
     "start_time": "2018-05-15T07:26:20.274677Z"
    }
   },
   "source": [
    "# Save GSCV Model to Pickle"
   ]
  },
  {
   "cell_type": "code",
   "execution_count": 13,
   "metadata": {},
   "outputs": [],
   "source": [
    "if use_grid_search:\n",
    "    pickle.dump(text_clf, open('./pickle/gs_'+classifier+'_'+text_columns+'_'+column_to_predict+'_model.pickle',\"wb\"))"
   ]
  },
  {
   "cell_type": "markdown",
   "metadata": {},
   "source": [
    "## Evaluate the model"
   ]
  },
  {
   "cell_type": "code",
   "execution_count": 14,
   "metadata": {
    "ExecuteTime": {
     "end_time": "2018-05-15T07:26:21.189731Z",
     "start_time": "2018-05-15T07:26:20.282676Z"
    },
    "scrolled": true
   },
   "outputs": [
    {
     "name": "stdout",
     "output_type": "stream",
     "text": [
      "Evaluating model\n",
      "Confusion matrix without GridSearch:\n",
      "[[ 832  344   15]\n",
      " [ 449  561   12]\n",
      " [ 208  265 5936]]\n",
      "Mean without GridSearch: 0.8500347947112039\n",
      "Confusion matrix with GridSearch:\n",
      "[[ 861  320   10]\n",
      " [ 455  555   12]\n",
      " [ 151  202 6056]]\n",
      "Mean with GridSearch: 0.8666202737183948\n"
     ]
    }
   ],
   "source": [
    "print(\"Evaluating model\")\n",
    "# Score and evaluate model on test data using model without hyperparameter tuning\n",
    "predicted = text_clf.predict(test_data)\n",
    "prediction_acc = np.mean(predicted == test_labels)\n",
    "print(\"Confusion matrix without GridSearch:\")\n",
    "print(metrics.confusion_matrix(test_labels, predicted))\n",
    "print(\"Mean without GridSearch: \" + str(prediction_acc))\n",
    "\n",
    "\n",
    "# Score and evaluate model on test data using model WITH hyperparameter tuning\n",
    "if use_grid_search:\n",
    "    predicted = gs_clf.predict(test_data)\n",
    "    prediction_acc = np.mean(predicted == test_labels)\n",
    "    print(\"Confusion matrix with GridSearch:\")\n",
    "    print(metrics.confusion_matrix(test_labels, predicted))\n",
    "    print(\"Mean with GridSearch: \" + str(prediction_acc))"
   ]
  },
  {
   "cell_type": "markdown",
   "metadata": {},
   "source": [
    "## Test data with inputs"
   ]
  },
  {
   "cell_type": "markdown",
   "metadata": {},
   "source": [
    "### Read Data"
   ]
  },
  {
   "cell_type": "code",
   "execution_count": 15,
   "metadata": {},
   "outputs": [],
   "source": [
    "dfTestTickets = pd.read_csv(\n",
    "    './test data/testing_tickets.csv',\n",
    "    dtype=str\n",
    ")\n",
    "test_input_data = dfTestTickets[text_columns]"
   ]
  },
  {
   "cell_type": "markdown",
   "metadata": {},
   "source": [
    "### Without GridSearchCV"
   ]
  },
  {
   "cell_type": "code",
   "execution_count": 16,
   "metadata": {},
   "outputs": [
    {
     "name": "stdout",
     "output_type": "stream",
     "text": [
      "No: 2\n",
      "body ,\n",
      "sent monday accessible hi we unable access thanks\n",
      "------------------------------\n",
      "urgency : 1\n",
      "==============================\n",
      "No: 3\n",
      "body ,\n",
      "hello advise there some issues with open for users form th floor sent re for working hello wireless se thanks sent wednesday for working hello currently we have issue with connecting client for can you please raise ticket if caused by or something side regards manager\n",
      "------------------------------\n",
      "urgency : 1\n",
      "==============================\n",
      "No: 4\n",
      "body ,\n",
      "sent wednesday down hello down we cannot work can you please have look thanks software design lead en\n",
      "------------------------------\n",
      "urgency : 1\n",
      "==============================\n",
      "No: 5\n",
      "body ,\n",
      "sent thursday july re incident warning for hi sorry seems there was some interruption communications some details have further added thread originated initial you have below your ticket impacted by issues reflects poor performance least what we think translates lag when using you know used real also another update thread mentioned above was last month ago we had same issue there was problem with main data provider some unknown reasons had switched off back then data connection kicked smaller band width please look into with high importance impacts even we speak complaining about waiting for your prompt response regarding other secured tunneling specifically need we can talk with representatives would include also discussions recently still actions following one thank you senior manager\n",
      "------------------------------\n",
      "urgency : 1\n",
      "==============================\n",
      "No: 6\n",
      "body ,\n",
      "connection was down th floor for few seconds\n",
      "------------------------------\n",
      "urgency : 1\n",
      "==============================\n",
      "No: 7\n",
      "body ,\n",
      "sent license server problem dear looks like there issue with license server you registered for license server distribute your product licenses server either down or cannot connect server last talked saturday if server down existing clients continue working for up hours clients cannot be served if server up but cannot connect only be able serve clients until tuesday manage related license server licenses please log your please refer product documentation for available if you need help issue please hesitate contact yours drive develop\n",
      "------------------------------\n",
      "urgency : 1\n",
      "==============================\n",
      "No: 8\n",
      "body ,\n",
      "sent wednesday urgent cannot open files importance high hello when try file get below others having same issue regardless file below states web app view be available for minutes but two later please raise with have investigated possible can open files using open explorer option but know if users aware thank you manager sent notification maintenance works downtime expected importance high hello everyone please be advised today th between maintenance works scheduled duration works hours during frame documents be available for download only but directly web app view for approximately minutes required order enable display documents for external clients web app view should you have any questions related above mentioned please hesitate contact note if you wish be notified hours before planned maintenance works please accept invitation attached thank you kind regards ext hub\n",
      "------------------------------\n",
      "urgency : 1\n",
      "==============================\n",
      "No: 9\n",
      "body ,\n",
      "sent thursday wireless issue we currently having outage sent\n",
      "------------------------------\n",
      "urgency : 1\n",
      "==============================\n",
      "No: 10\n",
      "body ,\n",
      "sent tuesday accessible dear accessible today could you please investigate made test thanks head\n",
      "------------------------------\n",
      "urgency : 1\n",
      "==============================\n",
      "No: 11\n",
      "body ,\n",
      "multiple users have reported certificate issues\n",
      "------------------------------\n",
      "urgency : 1\n",
      "==============================\n",
      "No: 12\n",
      "body ,\n",
      "error hello trying connect but working could you please investigate issue thank you best regards senior tester en\n",
      "------------------------------\n",
      "urgency : 1\n",
      "==============================\n",
      "No: 13\n",
      "body ,\n",
      "february contractor hi please note friday rd march instead st march please update accordingly thank kind regards planning\n",
      "------------------------------\n",
      "urgency : 3\n",
      "==============================\n",
      "No: 14\n",
      "body ,\n",
      "hello has additions please assign leader participant codes thanks north\n",
      "------------------------------\n",
      "urgency : 3\n",
      "==============================\n",
      "No: 15\n",
      "body ,\n",
      "requested via ne la pin urgent meeting cam cat audio pot tine va cam la edited care face ca\n",
      "------------------------------\n",
      "urgency : 3\n",
      "==============================\n",
      "No: 16\n",
      "body ,\n",
      "thursday december hi please dedicated she working distributed needs phones thank regards\n",
      "------------------------------\n",
      "urgency : 3\n",
      "==============================\n",
      "No: 17\n",
      "body ,\n",
      "dial codes hi having trouble finding dial details provide conf participation code thanks north\n",
      "------------------------------\n",
      "urgency : 1\n",
      "==============================\n",
      "No: 18\n",
      "body ,\n",
      "dial details importance high hello reaching out obtain conferee credentials leader participate code supposed then please directly him kind urgent client call his information thanks much help kind regards north\n",
      "------------------------------\n",
      "urgency : 3\n",
      "==============================\n",
      "No: 19\n",
      "body ,\n",
      "friday pm code details hi wonder help had cal setup july looks has expired please re enable let has completed please let require further information thanks coordinator\n",
      "------------------------------\n",
      "urgency : 3\n",
      "==============================\n",
      "No: 20\n",
      "body ,\n",
      "file dear could you advice what entries should be file thank you regards\n",
      "------------------------------\n",
      "urgency : 1\n",
      "==============================\n",
      "No: 21\n",
      "body ,\n",
      "sent thursday re cannot access hi thanks for prompt proceeded received following regards sent thursday cannot access hello please press continue should work without any problems please get back if problem still occurs thank you kind regards analyst ext hub sent thursday cannot access hi when trying access laptop receive following error for ie chrome can you consider high priority request since need access client asap other hand can access can also access mobile device why related issue thank you feel free contact for any further questions manager\n",
      "------------------------------\n",
      "urgency : 1\n",
      "==============================\n",
      "No: 22\n",
      "body ,\n",
      "unable connect hello after upgrading win clean upgrade able connect open anymore can you please enable open thanks\n",
      "------------------------------\n",
      "urgency : 1\n",
      "==============================\n",
      "No: 23\n",
      "body ,\n",
      "issue hi sorry for late replay could we reopen ticket number still have error when try install regards\n",
      "------------------------------\n",
      "urgency : 2\n",
      "==============================\n",
      "No: 24\n",
      "body ,\n",
      "previous tickets\n",
      "------------------------------\n",
      "urgency : 2\n",
      "==============================\n",
      "No: 25\n",
      "body ,\n",
      "hi have issue with please below screen with error can you please help thanks officer\n",
      "------------------------------\n",
      "urgency : 1\n",
      "==============================\n",
      "No: 26\n",
      "body ,\n",
      "open issue hello seems for moment open some problems please logs get attached image looking forward your help engineer\n",
      "------------------------------\n",
      "urgency : 2\n",
      "==============================\n",
      "No: 27\n",
      "body ,\n",
      "down can access hi here log wed client link remote wed wait wed client connection timed out code wed connection reset restarting wed soft connection reset received process restarting wed reconnecting connection reset wed restart pause second wed retry none wed warning server certificate verification method enabled for more info wed note current script setting allow configuration call defined scripts wed socket buffers wed attempting establish connection with wed connect thanks\n",
      "------------------------------\n",
      "urgency : 1\n",
      "==============================\n",
      "No: 28\n",
      "body ,\n",
      "open dear please know working could you please help resolve issue regards manager\n",
      "------------------------------\n",
      "urgency : 1\n",
      "==============================\n",
      "No: 29\n",
      "body ,\n",
      "incident fusion please assigned hello please be informed temporary password sent your should you need any further assistance please let know unfortunately we can assist with issues can you please raise ticket for issue assign appropriate thank you kind regards engineer sent tuesday november incident fusion please assigned please be advised record number assigned please review details take appropriate action description fusion please have had issues with today especially believe have found way fix but tells need contact you below you can screen comes up have able add for second behind losing money delayed report multiple attempts you need provide temp password enter fusion have sent last correspondence we had regarding issue for your reference below our last correspondence hello please be informed you have your password your you can use for logging fusion boxes should be completed with following information host name password you can find your should be empty field complete should you need any further assistance please let know kind regards engineer details requested for contact sales address location states atlanta atlanta line manager summary request please provide info action item under constraint additional comments or requirements please provide info action item under constraint please provide temporary for fusion information below boxes under constraints for purposes image thank you se sent forgive errors assign fusion ticket reference assignment request summary please provide info action item under constraint location states atlanta atlanta attachments image access request please click following link kind regards ref msg se summary fusion please number priority low assignment location states atlanta atlanta access incident please click following link kind regards ref msg\n",
      "------------------------------\n",
      "urgency : 2\n",
      "==============================\n",
      "No: 30\n",
      "body ,\n",
      "problems connecting hi have problems connecting tried reinstalling but did resolve issue sending you log attachments could you please assist thanks regards applications engineer en\n",
      "------------------------------\n",
      "urgency : 2\n",
      "==============================\n",
      "No: 31\n",
      "body ,\n",
      "access hi guys can you please review routes make covers access apparently work for number users including thanks\n",
      "------------------------------\n",
      "urgency : 1\n",
      "==============================\n"
     ]
    }
   ],
   "source": [
    "text_clf_model = pickle.load(open('./pickle/text_'+classifier+'_'+text_columns+'_'+column_to_predict+'_model.pickle',\"rb\"))\n",
    "prediction_input = text_clf_model.predict(test_input_data)\n",
    "\n",
    "i = 0\n",
    "for result in prediction_input:\n",
    "    print(\"No:\",i+2)\n",
    "    print(text_columns,\",\")\n",
    "    print(test_input_data.iloc[i])\n",
    "    print(\"-\"*30)\n",
    "    print(column_to_predict,\":\", result)\n",
    "    print(\"=\"*30)\n",
    "    i+=1"
   ]
  },
  {
   "cell_type": "markdown",
   "metadata": {},
   "source": [
    "### With GridSearchCV"
   ]
  },
  {
   "cell_type": "code",
   "execution_count": 17,
   "metadata": {},
   "outputs": [
    {
     "name": "stdout",
     "output_type": "stream",
     "text": [
      "No: 2\n",
      "body ,\n",
      "sent monday accessible hi we unable access thanks\n",
      "------------------------------\n",
      "urgency : 1\n",
      "==============================\n",
      "No: 3\n",
      "body ,\n",
      "hello advise there some issues with open for users form th floor sent re for working hello wireless se thanks sent wednesday for working hello currently we have issue with connecting client for can you please raise ticket if caused by or something side regards manager\n",
      "------------------------------\n",
      "urgency : 1\n",
      "==============================\n",
      "No: 4\n",
      "body ,\n",
      "sent wednesday down hello down we cannot work can you please have look thanks software design lead en\n",
      "------------------------------\n",
      "urgency : 1\n",
      "==============================\n",
      "No: 5\n",
      "body ,\n",
      "sent thursday july re incident warning for hi sorry seems there was some interruption communications some details have further added thread originated initial you have below your ticket impacted by issues reflects poor performance least what we think translates lag when using you know used real also another update thread mentioned above was last month ago we had same issue there was problem with main data provider some unknown reasons had switched off back then data connection kicked smaller band width please look into with high importance impacts even we speak complaining about waiting for your prompt response regarding other secured tunneling specifically need we can talk with representatives would include also discussions recently still actions following one thank you senior manager\n",
      "------------------------------\n",
      "urgency : 1\n",
      "==============================\n",
      "No: 6\n",
      "body ,\n",
      "connection was down th floor for few seconds\n",
      "------------------------------\n",
      "urgency : 1\n",
      "==============================\n",
      "No: 7\n",
      "body ,\n",
      "sent license server problem dear looks like there issue with license server you registered for license server distribute your product licenses server either down or cannot connect server last talked saturday if server down existing clients continue working for up hours clients cannot be served if server up but cannot connect only be able serve clients until tuesday manage related license server licenses please log your please refer product documentation for available if you need help issue please hesitate contact yours drive develop\n",
      "------------------------------\n",
      "urgency : 1\n",
      "==============================\n",
      "No: 8\n",
      "body ,\n",
      "sent wednesday urgent cannot open files importance high hello when try file get below others having same issue regardless file below states web app view be available for minutes but two later please raise with have investigated possible can open files using open explorer option but know if users aware thank you manager sent notification maintenance works downtime expected importance high hello everyone please be advised today th between maintenance works scheduled duration works hours during frame documents be available for download only but directly web app view for approximately minutes required order enable display documents for external clients web app view should you have any questions related above mentioned please hesitate contact note if you wish be notified hours before planned maintenance works please accept invitation attached thank you kind regards ext hub\n",
      "------------------------------\n",
      "urgency : 1\n",
      "==============================\n",
      "No: 9\n",
      "body ,\n",
      "sent thursday wireless issue we currently having outage sent\n",
      "------------------------------\n",
      "urgency : 1\n",
      "==============================\n",
      "No: 10\n",
      "body ,\n",
      "sent tuesday accessible dear accessible today could you please investigate made test thanks head\n",
      "------------------------------\n",
      "urgency : 1\n",
      "==============================\n",
      "No: 11\n",
      "body ,\n",
      "multiple users have reported certificate issues\n",
      "------------------------------\n",
      "urgency : 1\n",
      "==============================\n",
      "No: 12\n",
      "body ,\n",
      "error hello trying connect but working could you please investigate issue thank you best regards senior tester en\n",
      "------------------------------\n",
      "urgency : 1\n",
      "==============================\n",
      "No: 13\n",
      "body ,\n",
      "february contractor hi please note friday rd march instead st march please update accordingly thank kind regards planning\n",
      "------------------------------\n",
      "urgency : 3\n",
      "==============================\n",
      "No: 14\n",
      "body ,\n",
      "hello has additions please assign leader participant codes thanks north\n",
      "------------------------------\n",
      "urgency : 3\n",
      "==============================\n",
      "No: 15\n",
      "body ,\n",
      "requested via ne la pin urgent meeting cam cat audio pot tine va cam la edited care face ca\n",
      "------------------------------\n",
      "urgency : 3\n",
      "==============================\n",
      "No: 16\n",
      "body ,\n",
      "thursday december hi please dedicated she working distributed needs phones thank regards\n",
      "------------------------------\n",
      "urgency : 3\n",
      "==============================\n",
      "No: 17\n",
      "body ,\n",
      "dial codes hi having trouble finding dial details provide conf participation code thanks north\n",
      "------------------------------\n",
      "urgency : 1\n",
      "==============================\n",
      "No: 18\n",
      "body ,\n",
      "dial details importance high hello reaching out obtain conferee credentials leader participate code supposed then please directly him kind urgent client call his information thanks much help kind regards north\n",
      "------------------------------\n",
      "urgency : 3\n",
      "==============================\n",
      "No: 19\n",
      "body ,\n",
      "friday pm code details hi wonder help had cal setup july looks has expired please re enable let has completed please let require further information thanks coordinator\n",
      "------------------------------\n",
      "urgency : 3\n",
      "==============================\n",
      "No: 20\n",
      "body ,\n",
      "file dear could you advice what entries should be file thank you regards\n",
      "------------------------------\n",
      "urgency : 1\n",
      "==============================\n",
      "No: 21\n",
      "body ,\n",
      "sent thursday re cannot access hi thanks for prompt proceeded received following regards sent thursday cannot access hello please press continue should work without any problems please get back if problem still occurs thank you kind regards analyst ext hub sent thursday cannot access hi when trying access laptop receive following error for ie chrome can you consider high priority request since need access client asap other hand can access can also access mobile device why related issue thank you feel free contact for any further questions manager\n",
      "------------------------------\n",
      "urgency : 1\n",
      "==============================\n",
      "No: 22\n",
      "body ,\n",
      "unable connect hello after upgrading win clean upgrade able connect open anymore can you please enable open thanks\n",
      "------------------------------\n",
      "urgency : 1\n",
      "==============================\n",
      "No: 23\n",
      "body ,\n",
      "issue hi sorry for late replay could we reopen ticket number still have error when try install regards\n",
      "------------------------------\n",
      "urgency : 2\n",
      "==============================\n",
      "No: 24\n",
      "body ,\n",
      "previous tickets\n",
      "------------------------------\n",
      "urgency : 2\n",
      "==============================\n",
      "No: 25\n",
      "body ,\n",
      "hi have issue with please below screen with error can you please help thanks officer\n",
      "------------------------------\n",
      "urgency : 1\n",
      "==============================\n",
      "No: 26\n",
      "body ,\n",
      "open issue hello seems for moment open some problems please logs get attached image looking forward your help engineer\n",
      "------------------------------\n",
      "urgency : 2\n",
      "==============================\n",
      "No: 27\n",
      "body ,\n",
      "down can access hi here log wed client link remote wed wait wed client connection timed out code wed connection reset restarting wed soft connection reset received process restarting wed reconnecting connection reset wed restart pause second wed retry none wed warning server certificate verification method enabled for more info wed note current script setting allow configuration call defined scripts wed socket buffers wed attempting establish connection with wed connect thanks\n",
      "------------------------------\n",
      "urgency : 1\n",
      "==============================\n",
      "No: 28\n",
      "body ,\n",
      "open dear please know working could you please help resolve issue regards manager\n",
      "------------------------------\n",
      "urgency : 1\n",
      "==============================\n",
      "No: 29\n",
      "body ,\n",
      "incident fusion please assigned hello please be informed temporary password sent your should you need any further assistance please let know unfortunately we can assist with issues can you please raise ticket for issue assign appropriate thank you kind regards engineer sent tuesday november incident fusion please assigned please be advised record number assigned please review details take appropriate action description fusion please have had issues with today especially believe have found way fix but tells need contact you below you can screen comes up have able add for second behind losing money delayed report multiple attempts you need provide temp password enter fusion have sent last correspondence we had regarding issue for your reference below our last correspondence hello please be informed you have your password your you can use for logging fusion boxes should be completed with following information host name password you can find your should be empty field complete should you need any further assistance please let know kind regards engineer details requested for contact sales address location states atlanta atlanta line manager summary request please provide info action item under constraint additional comments or requirements please provide info action item under constraint please provide temporary for fusion information below boxes under constraints for purposes image thank you se sent forgive errors assign fusion ticket reference assignment request summary please provide info action item under constraint location states atlanta atlanta attachments image access request please click following link kind regards ref msg se summary fusion please number priority low assignment location states atlanta atlanta access incident please click following link kind regards ref msg\n",
      "------------------------------\n",
      "urgency : 2\n",
      "==============================\n",
      "No: 30\n",
      "body ,\n",
      "problems connecting hi have problems connecting tried reinstalling but did resolve issue sending you log attachments could you please assist thanks regards applications engineer en\n",
      "------------------------------\n",
      "urgency : 2\n",
      "==============================\n",
      "No: 31\n",
      "body ,\n",
      "access hi guys can you please review routes make covers access apparently work for number users including thanks\n",
      "------------------------------\n",
      "urgency : 1\n",
      "==============================\n"
     ]
    }
   ],
   "source": [
    "if use_grid_search:\n",
    "    gs_clf_model = pickle.load(open('./pickle/gs_'+classifier+'_'+text_columns+'_'+column_to_predict+'_model.pickle',\"rb\"))\n",
    "    prediction_input = gs_clf_model.predict(test_input_data)\n",
    "\n",
    "    i = 0\n",
    "    for result in prediction_input:\n",
    "        print(\"No:\",i+2)\n",
    "        print(text_columns,\",\")\n",
    "        print(test_input_data.iloc[i])\n",
    "        print(\"-\"*30)\n",
    "        print(column_to_predict,\":\", result)\n",
    "        print(\"=\"*30)\n",
    "        i+=1"
   ]
  },
  {
   "cell_type": "markdown",
   "metadata": {},
   "source": [
    "## Ploting confusion matrix"
   ]
  },
  {
   "cell_type": "code",
   "execution_count": 18,
   "metadata": {
    "ExecuteTime": {
     "end_time": "2018-05-15T07:26:21.627104Z",
     "start_time": "2018-05-15T07:26:21.192694Z"
    }
   },
   "outputs": [
    {
     "data": {
      "image/png": "[encoded data removed]",
      "text/plain": [
       "<Figure size 288x288 with 1 Axes>"
      ]
     },
     "metadata": {
      "needs_background": "light"
     },
     "output_type": "display_data"
    }
   ],
   "source": [
    "# Ploting confusion matrix with 'seaborn' module\n",
    "# Use below line only with Jupyter Notebook\n",
    "%matplotlib inline\n",
    "import seaborn as sns\n",
    "from sklearn.metrics import confusion_matrix\n",
    "import matplotlib.pyplot as plt\n",
    "import matplotlib\n",
    "mat = confusion_matrix(test_labels, predicted)\n",
    "plt.figure(figsize=(4, 4))\n",
    "sns.set()\n",
    "sns.heatmap(mat.T, square=True, annot=True, fmt='d', cbar=False,\n",
    "            xticklabels=np.unique(test_labels),\n",
    "            yticklabels=np.unique(test_labels))\n",
    "plt.xlabel('true label')\n",
    "plt.ylabel('predicted label')\n",
    "# Save confusion matrix to outputs in Workbench\n",
    "# plt.savefig(os.path.join('.', 'outputs', 'confusion_matrix.png'))\n",
    "plt.show()"
   ]
  },
  {
   "cell_type": "markdown",
   "metadata": {},
   "source": [
    "## Printing classification report"
   ]
  },
  {
   "cell_type": "code",
   "execution_count": 19,
   "metadata": {
    "ExecuteTime": {
     "end_time": "2018-05-15T07:26:21.684170Z",
     "start_time": "2018-05-15T07:26:21.631088Z"
    }
   },
   "outputs": [
    {
     "name": "stdout",
     "output_type": "stream",
     "text": [
      "              precision    recall  f1-score   support\n",
      "\n",
      "           1       0.59      0.72      0.65      1191\n",
      "           2       0.52      0.54      0.53      1022\n",
      "           3       1.00      0.94      0.97      6409\n",
      "\n",
      "    accuracy                           0.87      8622\n",
      "   macro avg       0.70      0.74      0.72      8622\n",
      "weighted avg       0.88      0.87      0.87      8622\n",
      "\n"
     ]
    }
   ],
   "source": [
    "%matplotlib inline\n",
    "from sklearn.metrics import classification_report\n",
    "print(classification_report(test_labels, predicted,\n",
    "                            target_names=np.unique(test_labels)))"
   ]
  },
  {
   "cell_type": "code",
   "execution_count": null,
   "metadata": {},
   "outputs": [],
   "source": []
  }
 ],
 "metadata": {
  "kernelspec": {
   "display_name": "Python 3",
   "language": "python",
   "name": "python3"
  },
  "language_info": {
   "codemirror_mode": {
    "name": "ipython",
    "version": 3
   },
   "file_extension": ".py",
   "mimetype": "text/x-python",
   "name": "python",
   "nbconvert_exporter": "python",
   "pygments_lexer": "ipython3",
   "version": "3.7.4"
  }
 },
 "nbformat": 4,
 "nbformat_minor": 2
}

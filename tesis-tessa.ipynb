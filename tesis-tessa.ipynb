{
 "cells": [
  {
   "cell_type": "code",
   "execution_count": 1,
   "metadata": {},
   "outputs": [],
   "source": [
    "import re\n",
    "\n",
    "from nltk.stem import WordNetLemmatizer \n",
    "from nltk.stem.snowball import SnowballStemmer\n",
    "from nltk.corpus import stopwords\n",
    "\n",
    "import sys\n",
    "import nltk\n",
    "import numpy as np\n",
    "import pandas as pd\n",
    "import pickle\n",
    "\n",
    "# from helpers import *\n",
    "from sklearn.utils import resample\n",
    "from sklearn.preprocessing import StandardScaler \n",
    "# from imblearn import under_sampling, over_sampling\n",
    "from imblearn.over_sampling import RandomOverSampler, SMOTE, ADASYN\n",
    "\n",
    "from nltk.stem.snowball import SnowballStemmer\n",
    "from sklearn.feature_extraction.text import CountVectorizer, TfidfTransformer\n",
    "from sklearn.linear_model import SGDClassifier\n",
    "from sklearn.model_selection import GridSearchCV, train_test_split\n",
    "from sklearn.naive_bayes import MultinomialNB\n",
    "from sklearn.tree import DecisionTreeClassifier\n",
    "from sklearn.svm import SVC\n",
    "from sklearn.neighbors import KNeighborsClassifier\n",
    "\n",
    "from sklearn.pipeline import Pipeline\n",
    "from sklearn import metrics\n",
    "import os\n",
    "from matplotlib import pyplot as plt\n",
    "sys.path.append(\".\")\n",
    "sys.path.append(\"..\")\n",
    "\n",
    "lemmatizer = WordNetLemmatizer() \n",
    "# sb = SnowballStemmer('english')\n",
    "stop_words = ['i', 'me', 'my', 'myself', 'we', 'our', 'ours', 'ourselves', 'us',\n",
    "              'you', \"you're\", \"you've\", \"you'll\", \"you'd\", 'your', 'yours', 'yourself', 'yourselves',\n",
    "              'he', 'him', 'his', 'himself', 'she', \"she's\", 'her', 'hers', 'herself',\n",
    "              'it', \"it's\", 'its', 'itself', 'they', 'them', 'their', 'theirs', 'themselves',\n",
    "              'what', 'which', 'who', 'whom', 'this', 'that', \"that'll\", 'these', 'those',\n",
    "              'am', 'is', 'are', 'was', 'were', 'be', 'been', 'being', 'have', 'has', 'had', 'having',\n",
    "              'do', 'does', 'did', 'doing', 'a', 'an', 'the', 'and', 'but', 'if', 'or',\n",
    "              'because', 'as', 'until', 'while', 'of', 'at', 'by', 'for', 'with', 'about',\n",
    "              'against', 'between', 'into', 'through', 'during', 'before', 'after', 'above', 'below', 'to',\n",
    "              'from', 'again', 'further', 'then', 'might', 'must', 'need', 'shall', 'once',\n",
    "              'here', 'there', 'when', 'where', 'why', 'how', 'all', 'any', 'both', 'each', 'few',\n",
    "              'more', 'most', 'other', 'some', 'such', 'only', 'own', 'same', 'so', 'than',\n",
    "              'too', 'very', 's', 't', 'can', 'will', 'just', 'should', \"should've\", 'now',\n",
    "              'd', 'll', 'm', 'o', 're', 've', 'y', 'ain']"
   ]
  },
  {
   "cell_type": "markdown",
   "metadata": {},
   "source": [
    "### Read Data"
   ]
  },
  {
   "cell_type": "code",
   "execution_count": 2,
   "metadata": {},
   "outputs": [
    {
     "name": "stdout",
     "output_type": "stream",
     "text": [
      "0                                      service unavailable\n",
      "1                                       for us not working\n",
      "2                                           not responding\n",
      "3                                   performance issues and\n",
      "4                                 connection down th floor\n",
      "5                                             inaccessible\n",
      "6                              urgent cannot open files on\n",
      "7                                    wireless network down\n",
      "8                                           not accessible\n",
      "9                                      certificate expired\n",
      "10                              oracle errors when logging\n",
      "11                                   oracle system is down\n",
      "12         survey taking errors app outage for us accounts\n",
      "13                     status resolved intermittent issues\n",
      "14                                      the server is down\n",
      "15                                      is not starting up\n",
      "16                                       is not accessible\n",
      "17                                             issues with\n",
      "18                        unavailable certificates expired\n",
      "19                                                   stuck\n",
      "20                 connection to the client is unavailable\n",
      "21       change settings teams have access to project r...\n",
      "22                        performance issues bucharest and\n",
      "23                   issues connecting to resource through\n",
      "24                                         confluence down\n",
      "25                          confluence prod instance issue\n",
      "26                                confluence not available\n",
      "27                                        possible problem\n",
      "28                    oracle play option not available for\n",
      "29                                     outlook not working\n",
      "                               ...                        \n",
      "43077                  instructions for installing windows\n",
      "43078                                   windows old folder\n",
      "43079                              windows upgrade inquiry\n",
      "43080                    upgrade os to win notification sc\n",
      "43081                                      windows upgrade\n",
      "43082                          windows upgrade requirement\n",
      "43083                    please send this from its account\n",
      "43084              new meeting button missing form outlook\n",
      "43085                       need oracle on his win machine\n",
      "43086                               windows forced upgrade\n",
      "43087                                              upgrade\n",
      "43088                           windows upgrade assistance\n",
      "43089                           windows upgrade assistance\n",
      "43090                            windows update assistance\n",
      "43091                            windows post pone upgrade\n",
      "43092                       disk space for windows upgrade\n",
      "43093                                      windows upgrade\n",
      "43094               windows upgrade data backup assistance\n",
      "43095    request for mail merge windows upgrade has sta...\n",
      "43096    windows upgrade assistance with clearing disk ...\n",
      "43097                                      windows upgrade\n",
      "43098             assistance backup before windows upgrade\n",
      "43099                           account toast notification\n",
      "43100         increase partition space for windows upgrade\n",
      "43101                  other language after windows update\n",
      "43102                          windows upgrade data backup\n",
      "43103                                 windows running slow\n",
      "43104                              access for environments\n",
      "43105                      approve nomination on behalf of\n",
      "43106       service improvement for password change issues\n",
      "Name: title, Length: 43107, dtype: object\n"
     ]
    }
   ],
   "source": [
    "dfTickets = pd.read_csv(\"all_tickets.csv\",dtype=str)\n",
    "# print(data[['title']])\n",
    "print(dfTickets['title'])\n",
    "# tickets_title = data[['title']]\n",
    "# tickets_body = data[['body']]\n",
    "# category = data[['category']]\n",
    "# business_service = data[['business_service']]\n",
    "# urgency = data[['urgency']]\n",
    "# impact = data[['impact']]\n",
    "# priority = data[['priority']]"
   ]
  },
  {
   "cell_type": "markdown",
   "metadata": {},
   "source": [
    "### Tokenize + Lemmatize Data + Stopwords Removal"
   ]
  },
  {
   "cell_type": "markdown",
   "metadata": {},
   "source": [
    "#### Title Data"
   ]
  },
  {
   "cell_type": "markdown",
   "metadata": {},
   "source": [
    "print(\"title length:\",len(tickets_title))\n",
    "preprocessed_title = []\n",
    "for i in range(0,43106):\n",
    "    lemmatized = []\n",
    "    word = tickets_title.loc[i,'title'].lower()\n",
    "    tokenizeWord = word_tokenize(word)\n",
    "    filtered_sentence = [w for w in tokenizeWord if not w in stop_words]\n",
    "    filtered_sentence = []\n",
    "    for w in tokenizeWord: \n",
    "        if w not in stop_words: \n",
    "            filtered_sentence.append(w)         \n",
    "\n",
    "    for word in filtered_sentence:\n",
    "        lemmatized.append(lemmatizer.lemmatize(word))\n",
    "        \n",
    "    preprocessed_title.append(lemmatized)    "
   ]
  },
  {
   "cell_type": "markdown",
   "metadata": {
    "scrolled": true
   },
   "source": [
    "print(preprocessed_title[1])"
   ]
  },
  {
   "cell_type": "markdown",
   "metadata": {},
   "source": [
    "#### Body Data"
   ]
  },
  {
   "cell_type": "markdown",
   "metadata": {},
   "source": [
    "print(\"body length:\",len(tickets_body))\n",
    "preprocessed_body = []\n",
    "for i in range(0,43106):\n",
    "    lemmatized = []\n",
    "    word = tickets_body.loc[i,'body'].lower()\n",
    "    tokenizeWord = word_tokenize(word)\n",
    "    filtered_sentence = [w for w in tokenizeWord if not w in stop_words]\n",
    "    filtered_sentence = []\n",
    "    for w in tokenizeWord: \n",
    "        if w not in stop_words: \n",
    "            filtered_sentence.append(w)         \n",
    "\n",
    "    for word in filtered_sentence:\n",
    "        lemmatized.append(lemmatizer.lemmatize(word))\n",
    "        \n",
    "    preprocessed_body.append(lemmatized)   "
   ]
  },
  {
   "cell_type": "markdown",
   "metadata": {},
   "source": [
    "print(preprocessed_body[1])"
   ]
  },
  {
   "cell_type": "markdown",
   "metadata": {},
   "source": [
    "# Split Data"
   ]
  },
  {
   "cell_type": "code",
   "execution_count": 19,
   "metadata": {},
   "outputs": [],
   "source": [
    "column_to_predict = \"urgency\"\n",
    "text_columns = \"title\"\n",
    "data = dfTickets[text_columns]\n",
    "labelData = dfTickets[column_to_predict]\n",
    "\n",
    "train_data, test_data, train_labels, test_labels = train_test_split(\n",
    "    data, labelData, test_size=0.2\n",
    ")"
   ]
  },
  {
   "cell_type": "code",
   "execution_count": 20,
   "metadata": {},
   "outputs": [
    {
     "name": "stdout",
     "output_type": "stream",
     "text": [
      "41482                              testing services vendor\n",
      "24733                            change of project manager\n",
      "41160                                           leaver for\n",
      "4186                              frozen task notification\n",
      "19122                                        po monitor hp\n",
      "41779                               new quarantine account\n",
      "8146                                                issues\n",
      "33904                                access to and servers\n",
      "18761                                             build en\n",
      "21122                  new starter din hardware allocation\n",
      "23077                                              hookers\n",
      "25518                                          new starter\n",
      "2420                                  can access one drive\n",
      "27160                                    access to folders\n",
      "23665                                             engagers\n",
      "16443                           allocation new purchase po\n",
      "17439                    equipment receiving from supplier\n",
      "38244                        access to pas for new joiners\n",
      "6837                                        monitor defect\n",
      "16044           support for all hands event th of dec from\n",
      "10201                           cannot find members oracle\n",
      "36481    please action submit your time cards for approval\n",
      "1452                                  mail memory increase\n",
      "36686            please action direct reports missing time\n",
      "10168          oracle rejected system approved incorrectly\n",
      "33832                                    open installation\n",
      "25100                                               update\n",
      "34355                                    expenses approval\n",
      "19490                                                   po\n",
      "34343                     project clean up call for action\n",
      "                               ...                        \n",
      "40497                          access cards usage belgrade\n",
      "21834      please add new team joiners to common addresses\n",
      "31369                                   leaver service now\n",
      "14342                     identify old links used internal\n",
      "687                                          faulty laptop\n",
      "9495                time cards come for approval to the pm\n",
      "5634                                    mail address error\n",
      "33654                 new resources to be accessed through\n",
      "29817                                       reset password\n",
      "37050                                    oracle time sheet\n",
      "16906                                                 pads\n",
      "9413                                             pm change\n",
      "35398                              oracle delete time card\n",
      "36968                                   needs to be filled\n",
      "2238                               poll ram full status up\n",
      "30682                                            regarding\n",
      "7234                                     rise a ticket for\n",
      "21996                          ownership change on address\n",
      "9204                                oracle cannot submit a\n",
      "42547                                    can check updates\n",
      "1675                                    suspected from pop\n",
      "9483                                                issues\n",
      "23421                           change ownership of member\n",
      "30281                              windows license expired\n",
      "35771                  access to all absence report oracle\n",
      "26107                                  new starter kingdom\n",
      "37435         new owner for project code part time working\n",
      "19627                                     software licence\n",
      "9430                           oracle problem status error\n",
      "17423                          temporary laptop assignment\n",
      "Name: title, Length: 34485, dtype: object\n"
     ]
    }
   ],
   "source": [
    "print(train_data)"
   ]
  },
  {
   "cell_type": "code",
   "execution_count": 21,
   "metadata": {},
   "outputs": [],
   "source": [
    "train_data.columns = [\"test\"]"
   ]
  },
  {
   "cell_type": "code",
   "execution_count": 22,
   "metadata": {},
   "outputs": [
    {
     "name": "stdout",
     "output_type": "stream",
     "text": [
      "41482                              testing services vendor\n",
      "24733                            change of project manager\n",
      "41160                                           leaver for\n",
      "4186                              frozen task notification\n",
      "19122                                        po monitor hp\n",
      "41779                               new quarantine account\n",
      "8146                                                issues\n",
      "33904                                access to and servers\n",
      "18761                                             build en\n",
      "21122                  new starter din hardware allocation\n",
      "23077                                              hookers\n",
      "25518                                          new starter\n",
      "2420                                  can access one drive\n",
      "27160                                    access to folders\n",
      "23665                                             engagers\n",
      "16443                           allocation new purchase po\n",
      "17439                    equipment receiving from supplier\n",
      "38244                        access to pas for new joiners\n",
      "6837                                        monitor defect\n",
      "16044           support for all hands event th of dec from\n",
      "10201                           cannot find members oracle\n",
      "36481    please action submit your time cards for approval\n",
      "1452                                  mail memory increase\n",
      "36686            please action direct reports missing time\n",
      "10168          oracle rejected system approved incorrectly\n",
      "33832                                    open installation\n",
      "25100                                               update\n",
      "34355                                    expenses approval\n",
      "19490                                                   po\n",
      "34343                     project clean up call for action\n",
      "                               ...                        \n",
      "40497                          access cards usage belgrade\n",
      "21834      please add new team joiners to common addresses\n",
      "31369                                   leaver service now\n",
      "14342                     identify old links used internal\n",
      "687                                          faulty laptop\n",
      "9495                time cards come for approval to the pm\n",
      "5634                                    mail address error\n",
      "33654                 new resources to be accessed through\n",
      "29817                                       reset password\n",
      "37050                                    oracle time sheet\n",
      "16906                                                 pads\n",
      "9413                                             pm change\n",
      "35398                              oracle delete time card\n",
      "36968                                   needs to be filled\n",
      "2238                               poll ram full status up\n",
      "30682                                            regarding\n",
      "7234                                     rise a ticket for\n",
      "21996                          ownership change on address\n",
      "9204                                oracle cannot submit a\n",
      "42547                                    can check updates\n",
      "1675                                    suspected from pop\n",
      "9483                                                issues\n",
      "23421                           change ownership of member\n",
      "30281                              windows license expired\n",
      "35771                  access to all absence report oracle\n",
      "26107                                  new starter kingdom\n",
      "37435         new owner for project code part time working\n",
      "19627                                     software licence\n",
      "9430                           oracle problem status error\n",
      "17423                          temporary laptop assignment\n",
      "Name: title, Length: 34485, dtype: object\n"
     ]
    }
   ],
   "source": [
    "print(train_data)"
   ]
  },
  {
   "cell_type": "markdown",
   "metadata": {},
   "source": [
    "# Feature Set Extraction"
   ]
  },
  {
   "cell_type": "markdown",
   "metadata": {},
   "source": [
    "#### Title / Urgency Feature"
   ]
  },
  {
   "cell_type": "code",
   "execution_count": 4,
   "metadata": {},
   "outputs": [],
   "source": [
    "class StemmedCountVectorizer(CountVectorizer):\n",
    "    def build_analyzer(self):\n",
    "        analyzer = super(StemmedCountVectorizer, self).build_analyzer()\n",
    "        stemmer = SnowballStemmer(\"english\", ignore_stopwords=True)\n",
    "        return lambda doc: ([stemmer.stem(w) for w in analyzer(doc)])"
   ]
  },
  {
   "cell_type": "code",
   "execution_count": 5,
   "metadata": {},
   "outputs": [
    {
     "data": {
      "text/plain": [
       "(34485, 2433)"
      ]
     },
     "execution_count": 5,
     "metadata": {},
     "output_type": "execute_result"
    }
   ],
   "source": [
    "count_vect = StemmedCountVectorizer(stop_words=\"english\")\n",
    "vectorized_data = count_vect.fit_transform(train_data)\n",
    "vectorized_data.shape"
   ]
  },
  {
   "cell_type": "code",
   "execution_count": 6,
   "metadata": {},
   "outputs": [
    {
     "data": {
      "text/plain": [
       "(34485, 2433)"
      ]
     },
     "execution_count": 6,
     "metadata": {},
     "output_type": "execute_result"
    }
   ],
   "source": [
    "tfidf = TfidfTransformer()\n",
    "features = tfidf.fit_transform(vectorized_data)\n",
    "features.shape"
   ]
  },
  {
   "cell_type": "code",
   "execution_count": null,
   "metadata": {},
   "outputs": [],
   "source": []
  },
  {
   "cell_type": "code",
   "execution_count": 7,
   "metadata": {},
   "outputs": [],
   "source": [
    "text_clf = Pipeline([\n",
    "        ('vect', count_vect),\n",
    "        ('tfidf', TfidfTransformer()),\n",
    "        ('clf', MultinomialNB(fit_prior=True))\n",
    "    ])\n",
    "text_clf = text_clf.fit(train_data, train_labels)"
   ]
  },
  {
   "cell_type": "code",
   "execution_count": 8,
   "metadata": {},
   "outputs": [
    {
     "name": "stdout",
     "output_type": "stream",
     "text": [
      "Evaluating model\n",
      "Confusion matrix without GridSearch:\n",
      "[[ 437   55  610]\n",
      " [ 288  131  581]\n",
      " [ 149   39 6332]]\n",
      "Mean without GridSearch: 0.8002783576896312\n"
     ]
    }
   ],
   "source": [
    "print(\"Evaluating model\")\n",
    "# Score and evaluate model on test data using model without hyperparameter tuning\n",
    "predicted = text_clf.predict(test_data)\n",
    "prediction_acc = np.mean(predicted == test_labels)\n",
    "print(\"Confusion matrix without GridSearch:\")\n",
    "print(metrics.confusion_matrix(test_labels, predicted))\n",
    "print(\"Mean without GridSearch: \" + str(prediction_acc))\n",
    "\n",
    "# # Score and evaluate model on test data using model WITH hyperparameter tuning\n",
    "# if use_grid_search:\n",
    "#     predicted = gs_clf.predict(test_data)\n",
    "#     prediction_acc = np.mean(predicted == test_labels)\n",
    "#     print(\"Confusion matrix with GridSearch:\")\n",
    "#     print(metrics.confusion_matrix(test_labels, predicted))\n",
    "#     print(\"Mean with GridSearch: \" + str(prediction_acc))"
   ]
  },
  {
   "cell_type": "code",
   "execution_count": 9,
   "metadata": {},
   "outputs": [
    {
     "data": {
      "image/png": "[encoded data removed]",
      "text/plain": [
       "<Figure size 288x288 with 1 Axes>"
      ]
     },
     "metadata": {
      "needs_background": "light"
     },
     "output_type": "display_data"
    }
   ],
   "source": [
    "# Ploting confusion matrix with 'seaborn' module\n",
    "# Use below line only with Jupyter Notebook\n",
    "%matplotlib inline\n",
    "import seaborn as sns\n",
    "from sklearn.metrics import confusion_matrix\n",
    "import matplotlib.pyplot as plt\n",
    "import matplotlib\n",
    "mat = confusion_matrix(test_labels, predicted)\n",
    "plt.figure(figsize=(4, 4))\n",
    "sns.set()\n",
    "sns.heatmap(mat.T, square=True, annot=True, fmt='d', cbar=False,\n",
    "            xticklabels=np.unique(test_labels),\n",
    "            yticklabels=np.unique(test_labels))\n",
    "plt.xlabel('true label')\n",
    "plt.ylabel('predicted label')\n",
    "# Save confusion matrix to outputs in Workbench\n",
    "# plt.savefig(os.path.join('.', 'outputs', 'confusion_matrix.png'))\n",
    "plt.show()"
   ]
  },
  {
   "cell_type": "code",
   "execution_count": 10,
   "metadata": {},
   "outputs": [
    {
     "name": "stdout",
     "output_type": "stream",
     "text": [
      "              precision    recall  f1-score   support\n",
      "\n",
      "           1       0.50      0.40      0.44      1102\n",
      "           2       0.58      0.13      0.21      1000\n",
      "           3       0.84      0.97      0.90      6520\n",
      "\n",
      "    accuracy                           0.80      8622\n",
      "   macro avg       0.64      0.50      0.52      8622\n",
      "weighted avg       0.77      0.80      0.76      8622\n",
      "\n"
     ]
    }
   ],
   "source": [
    "%matplotlib inline\n",
    "from sklearn.metrics import classification_report\n",
    "print(classification_report(test_labels, predicted,\n",
    "                            target_names=np.unique(test_labels)))"
   ]
  }
 ],
 "metadata": {
  "kernelspec": {
   "display_name": "Python 3",
   "language": "python",
   "name": "python3"
  },
  "language_info": {
   "codemirror_mode": {
    "name": "ipython",
    "version": 3
   },
   "file_extension": ".py",
   "mimetype": "text/x-python",
   "name": "python",
   "nbconvert_exporter": "python",
   "pygments_lexer": "ipython3",
   "version": "3.7.4"
  }
 },
 "nbformat": 4,
 "nbformat_minor": 2
}

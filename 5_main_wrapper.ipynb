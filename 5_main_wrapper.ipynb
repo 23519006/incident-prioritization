{
 "cells": [
  {
   "cell_type": "code",
   "execution_count": 1,
   "metadata": {},
   "outputs": [],
   "source": [
    "import pickle\n",
    "\n",
    "import os\n",
    "import pandas as pd\n",
    "\n",
    "import sys\n",
    "sys.path.append(\".\")\n",
    "sys.path.append(\"..\")"
   ]
  },
  {
   "cell_type": "markdown",
   "metadata": {},
   "source": [
    "## Pilih classifier"
   ]
  },
  {
   "cell_type": "code",
   "execution_count": 2,
   "metadata": {},
   "outputs": [],
   "source": [
    "classifier = \"D3\""
   ]
  },
  {
   "cell_type": "code",
   "execution_count": 3,
   "metadata": {},
   "outputs": [],
   "source": [
    "w, h = 4, 2;\n",
    "clf_model = [[0 for x in range(w)] for y in range(h)] "
   ]
  },
  {
   "cell_type": "code",
   "execution_count": 4,
   "metadata": {},
   "outputs": [],
   "source": [
    "# [x][y]\n",
    "\n",
    "# X:\n",
    "# urgency = 0\n",
    "# impact  = 1\n",
    "\n",
    "# Y:\n",
    "# title            = 0\n",
    "# body             = 1\n",
    "# category         = 2\n",
    "# business service = 3"
   ]
  },
  {
   "cell_type": "code",
   "execution_count": 5,
   "metadata": {},
   "outputs": [],
   "source": [
    "predicts = [\"urgency\",\"impact\"]\n",
    "columns = [\"title\",\"body\",\"category\",\"business_service\"]"
   ]
  },
  {
   "cell_type": "code",
   "execution_count": 6,
   "metadata": {},
   "outputs": [],
   "source": [
    "i = 0\n",
    "j = 0\n",
    "for column_to_predict in predicts:\n",
    "    j = 0\n",
    "    for text_columns in columns:\n",
    "        clf_model[i][j] = pickle.load(open('./pickle/text_'+classifier+'_'+text_columns+'_'+column_to_predict+'_model.pickle',\"rb\"))\n",
    "        j+=1\n",
    "    i+=1"
   ]
  },
  {
   "cell_type": "markdown",
   "metadata": {},
   "source": [
    "## Input"
   ]
  },
  {
   "cell_type": "code",
   "execution_count": 18,
   "metadata": {},
   "outputs": [
    {
     "name": "stdout",
     "output_type": "stream",
     "text": [
      "Masukkan judul tiket insiden: Title\n"
     ]
    }
   ],
   "source": [
    "title_content = input(\"Masukkan judul insiden        : \")\n",
    "body_content = input(\"Masukkan deskripsi insiden    : \")\n",
    "cat_content = input(\"Masukkan kategory insiden     : \")\n",
    "bus_content = input(\"Masukkan bus. service insiden : \")"
   ]
  },
  {
   "cell_type": "code",
   "execution_count": 7,
   "metadata": {},
   "outputs": [],
   "source": [
    "title = {\"title\":[\"test\"]}\n",
    "body = {\"body\":[\"hello, my name is UwU\"]}\n",
    "category = {\"category\": [\"5\"]}\n",
    "business_service = {\"business_service\":[\"63\"]}\n",
    "\n",
    "# cat_dict = pd.DataFrame(category)"
   ]
  },
  {
   "cell_type": "code",
   "execution_count": 8,
   "metadata": {},
   "outputs": [
    {
     "name": "stdout",
     "output_type": "stream",
     "text": [
      "['1']\n"
     ]
    }
   ],
   "source": [
    "urgency_title = clf_model[0][0].predict(title)\n",
    "urgency_body = clf_model[0][1].predict(body)\n",
    "urgency_category = clf_model[0][2].predict(category)\n",
    "urgency_business_service = clf_model[0][0].predict(business_service)\n",
    "\n",
    "urgency_data = {\"title\":urgency_title,\n",
    "                \"body\":urgency_body,\n",
    "                \"category\":urgency_category,\n",
    "                \"business service\":urgency_business_service,\n",
    "                \"result\":None}\n",
    "\n",
    "urgency_df = pd.DataFrame(urgency_data)\n",
    "\n",
    "urgency_vars = urgency_df.iloc[:,:-1]\n",
    "\n",
    "urgency_model = pickle.load(open('./pickle/'+classifier+'_urgency_weight_model.pickle',\"rb\"))\n",
    "predicted_urgency = urgency_model.predict(urgency_vars)\n",
    "# print(predicted_urgency)"
   ]
  },
  {
   "cell_type": "code",
   "execution_count": 9,
   "metadata": {},
   "outputs": [
    {
     "name": "stdout",
     "output_type": "stream",
     "text": [
      "['3']\n"
     ]
    }
   ],
   "source": [
    "impact_title = clf_model[1][0].predict(title)\n",
    "impact_body = clf_model[1][1].predict(body)\n",
    "impact_category = clf_model[1][2].predict(category)\n",
    "impact_business_service = clf_model[1][0].predict(business_service)\n",
    "\n",
    "impact_data = {\"title\":impact_title,\n",
    "                \"body\":impact_body,\n",
    "                \"category\":impact_category,\n",
    "                \"business service\":impact_business_service,\n",
    "                \"result\":None}\n",
    "\n",
    "impact_df = pd.DataFrame(impact_data)\n",
    "\n",
    "impact_vars = impact_df.iloc[:,:-1]\n",
    "\n",
    "impact_model = pickle.load(open('./pickle/'+classifier+'_impact_weight_model.pickle',\"rb\"))\n",
    "predicted_impact = impact_model.predict(impact_vars)\n",
    "# print(predicted_impact)"
   ]
  },
  {
   "cell_type": "code",
   "execution_count": 10,
   "metadata": {},
   "outputs": [],
   "source": [
    "final_data = {\"urgency\":predicted_urgency,\n",
    "              \"impact\":predicted_impact,\n",
    "              \"result\":None}\n",
    "\n",
    "final_df = pd.DataFrame(final_data)\n",
    "\n",
    "final_vars = final_df.iloc[:,:-1]\n",
    "\n",
    "final_model = pickle.load(open('./pickle/'+classifier+'_priority_model.pickle',\"rb\"))\n",
    "\n",
    "priority = final_model.predict(final_vars)"
   ]
  },
  {
   "cell_type": "code",
   "execution_count": 11,
   "metadata": {},
   "outputs": [],
   "source": [
    "symbols = [\"/\",\"?\",\"<\",\".\",\"!\",\",\",\"[\",\"]\",\"(\",\")\",\"{\",\"}\",\"`\",\"/\",\"*\",\"-\",\"+\"]\n",
    "# print(symbols)\n",
    "\n",
    "final_title = title[\"title\"][0].lower()\n",
    "final_body = body[\"body\"][0].lower()\n",
    "\n",
    "for symbol in symbols:\n",
    "    final_body = final_body.replace(symbol,\"\")\n",
    "\n",
    "final_category = category[\"category\"][0]\n",
    "final_business = business_service[\"business_service\"][0]\n",
    "final_urgency = final_data[\"urgency\"][0]\n",
    "final_impact = final_data[\"impact\"][0]\n",
    "final_priority = priority[0]"
   ]
  },
  {
   "cell_type": "code",
   "execution_count": 12,
   "metadata": {},
   "outputs": [
    {
     "name": "stdout",
     "output_type": "stream",
     "text": [
      "Title            : test\n",
      "Body             : hello my name is uwu\n",
      "Category         : 5\n",
      "Business Service : 63\n",
      "Urgency          : 1\n",
      "Impact           : 3\n",
      "Priority         : 3\n"
     ]
    }
   ],
   "source": [
    "print(\"Title            :\",final_title)\n",
    "print(\"Body             :\",final_body)\n",
    "print(\"Category         :\",final_category)\n",
    "print(\"Business Service :\",final_business)\n",
    "print(\"Urgency          :\",final_urgency)\n",
    "print(\"Impact           :\",final_impact)\n",
    "print(\"Priority         :\",final_priority)"
   ]
  },
  {
   "cell_type": "code",
   "execution_count": 13,
   "metadata": {},
   "outputs": [
    {
     "name": "stdout",
     "output_type": "stream",
     "text": [
      "Apakah masih ada yang ingin diperbaiki? (Y/N)Y\n",
      "Apa yang ingin anda review?\n",
      "1. Urgency\n",
      "2. Impact\n",
      "3. Priority\n",
      "Pilih bagian yang ingin anda review (1/2/3): 3\n",
      "--------------------------------------------------\n",
      "Input Priority - 1/2/3: 1\n",
      "--------------------------------------------------\n",
      "Title            : test\n",
      "Body             : hello my name is uwu\n",
      "Category         : 5\n",
      "Business Service : 63\n",
      "Urgency          : 1\n",
      "Impact           : 3\n",
      "Priority         : 1\n",
      "--------------------------------------------------\n",
      "Apakah masih ada yang ingin diperbaiki? (Y/N)2\n",
      "Apa yang ingin anda review?\n",
      "1. Urgency\n",
      "2. Impact\n",
      "3. Priority\n",
      "Pilih bagian yang ingin anda review (1/2/3): 1\n",
      "--------------------------------------------------\n",
      "Input Urgency - 1/2/3: 1\n",
      "--------------------------------------------------\n",
      "Title            : test\n",
      "Body             : hello my name is uwu\n",
      "Category         : 5\n",
      "Business Service : 63\n",
      "Urgency          : 1\n",
      "Impact           : 3\n",
      "Priority         : 1\n",
      "--------------------------------------------------\n",
      "Apakah masih ada yang ingin diperbaiki? (Y/N)Y\n",
      "Apa yang ingin anda review?\n",
      "1. Urgency\n",
      "2. Impact\n",
      "3. Priority\n",
      "Pilih bagian yang ingin anda review (1/2/3): 2\n",
      "--------------------------------------------------\n",
      "Input Impact - 1/2/3: 1\n",
      "--------------------------------------------------\n",
      "Title            : test\n",
      "Body             : hello my name is uwu\n",
      "Category         : 5\n",
      "Business Service : 63\n",
      "Urgency          : 1\n",
      "Impact           : 1\n",
      "Priority         : 1\n",
      "--------------------------------------------------\n",
      "Apakah masih ada yang ingin diperbaiki? (Y/N)n\n"
     ]
    }
   ],
   "source": [
    "give_feedback = True\n",
    "\n",
    "while give_feedback :\n",
    "    choice = input(\"Apakah masih ada yang ingin diperbaiki? (Y/N)\")\n",
    "    if choice == \"N\" or choice == \"n\":\n",
    "        give_feedback = False\n",
    "    else:    \n",
    "        print(\"Apa yang ingin anda review?\")\n",
    "        print(\"1. Urgency\")\n",
    "        print(\"2. Impact\")\n",
    "        print(\"3. Priority\")\n",
    "        review_item = input(\"Pilih bagian yang ingin anda review (1/2/3): \")\n",
    "        print(\"--\"*25)\n",
    "        if review_item == \"1\":\n",
    "            final_urgency = input(\"Input Urgency - 1/2/3: \")\n",
    "        elif review_item == \"2\":    \n",
    "            final_impact = input(\"Input Impact - 1/2/3: \")\n",
    "        elif review_item == \"3\":\n",
    "            final_priority = input(\"Input Priority - 1/2/3: \")\n",
    "        print(\"--\"*25)\n",
    "        \n",
    "        print(\"Title            :\",final_title)\n",
    "        print(\"Body             :\",final_body)\n",
    "        print(\"Category         :\",final_category)\n",
    "        print(\"Business Service :\",final_business)\n",
    "        print(\"Urgency          :\",final_urgency)\n",
    "        print(\"Impact           :\",final_impact)\n",
    "        print(\"Priority         :\",final_priority)\n",
    "        \n",
    "        print(\"--\"*25)"
   ]
  },
  {
   "cell_type": "code",
   "execution_count": 14,
   "metadata": {},
   "outputs": [],
   "source": [
    "add_to_dataset = [final_title, final_body, final_category, final_business, final_urgency, final_impact, final_priority]"
   ]
  },
  {
   "cell_type": "code",
   "execution_count": 17,
   "metadata": {},
   "outputs": [],
   "source": [
    "import csv\n",
    "\n",
    "with open('./datasets/all_tickets.csv', 'a', newline='') as csvfile:  \n",
    "    csvwriter = csv.writer(csvfile)  \n",
    "    csvwriter.writerow(add_to_dataset)"
   ]
  }
 ],
 "metadata": {
  "kernelspec": {
   "display_name": "Python 3",
   "language": "python",
   "name": "python3"
  },
  "language_info": {
   "codemirror_mode": {
    "name": "ipython",
    "version": 3
   },
   "file_extension": ".py",
   "mimetype": "text/x-python",
   "name": "python",
   "nbconvert_exporter": "python",
   "pygments_lexer": "ipython3",
   "version": "3.7.5"
  }
 },
 "nbformat": 4,
 "nbformat_minor": 2
}

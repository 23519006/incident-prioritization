{
 "cells": [
  {
   "cell_type": "code",
   "execution_count": 1,
   "metadata": {},
   "outputs": [],
   "source": [
    "import pickle\n",
    "\n",
    "import os\n",
    "import pandas as pd\n",
    "\n",
    "import sys\n",
    "sys.path.append(\".\")\n",
    "sys.path.append(\"..\")"
   ]
  },
  {
   "cell_type": "markdown",
   "metadata": {},
   "source": [
    "## Pilih classifier"
   ]
  },
  {
   "cell_type": "code",
   "execution_count": 2,
   "metadata": {},
   "outputs": [],
   "source": [
    "classifier = \"D3\""
   ]
  },
  {
   "cell_type": "code",
   "execution_count": 3,
   "metadata": {},
   "outputs": [],
   "source": [
    "w, h = 4, 2;\n",
    "clf_model = [[0 for x in range(w)] for y in range(h)] "
   ]
  },
  {
   "cell_type": "code",
   "execution_count": 4,
   "metadata": {},
   "outputs": [],
   "source": [
    "# [x][y]\n",
    "\n",
    "# X:\n",
    "# urgency = 0\n",
    "# impact  = 1\n",
    "\n",
    "# Y:\n",
    "# title            = 0\n",
    "# body             = 1\n",
    "# category         = 2\n",
    "# business service = 3"
   ]
  },
  {
   "cell_type": "code",
   "execution_count": 5,
   "metadata": {},
   "outputs": [],
   "source": [
    "predicts = [\"urgency\",\"impact\"]\n",
    "columns = [\"title\",\"body\",\"category\",\"business_service\"]"
   ]
  },
  {
   "cell_type": "code",
   "execution_count": 6,
   "metadata": {},
   "outputs": [],
   "source": [
    "i = 0\n",
    "j = 0\n",
    "for column_to_predict in predicts:\n",
    "    j = 0\n",
    "    for text_columns in columns:\n",
    "        clf_model[i][j] = pickle.load(open('./pickle/text_'+classifier+'_'+text_columns+'_'+column_to_predict+'_model.pickle',\"rb\"))\n",
    "        j+=1\n",
    "    i+=1"
   ]
  },
  {
   "cell_type": "markdown",
   "metadata": {},
   "source": [
    "## Input"
   ]
  },
  {
   "cell_type": "markdown",
   "metadata": {},
   "source": [
    "#### nanti gampang kalo mau dibuat input nya bneran input ngetik, ini cuman buat ngetest"
   ]
  },
  {
   "cell_type": "code",
   "execution_count": 16,
   "metadata": {},
   "outputs": [],
   "source": [
    "title = {\"title\":[\"test\"]}\n",
    "body = {\"body\":[\"hello, my name is agape\"]}\n",
    "category = {\"category\": [\"5\"]}\n",
    "business_service = {\"business_service\":[\"63\"]}\n",
    "\n",
    "# cat_dict = pd.DataFrame(category)"
   ]
  },
  {
   "cell_type": "code",
   "execution_count": 8,
   "metadata": {},
   "outputs": [
    {
     "name": "stdout",
     "output_type": "stream",
     "text": [
      "['1']\n"
     ]
    }
   ],
   "source": [
    "urgency_title = clf_model[0][0].predict(title)\n",
    "urgency_body = clf_model[0][1].predict(body)\n",
    "urgency_category = clf_model[0][2].predict(category)\n",
    "urgency_business_service = clf_model[0][0].predict(business_service)\n",
    "\n",
    "urgency_data = {\"title\":urgency_title,\n",
    "                \"body\":urgency_body,\n",
    "                \"category\":urgency_category,\n",
    "                \"business service\":urgency_business_service,\n",
    "                \"result\":None}\n",
    "\n",
    "urgency_df = pd.DataFrame(urgency_data)\n",
    "\n",
    "urgency_vars = urgency_df.iloc[:,:-1]\n",
    "\n",
    "urgency_model = pickle.load(open('./pickle/'+classifier+'_urgency_weight_model.pickle',\"rb\"))\n",
    "predicted_urgency = urgency_model.predict(urgency_vars)\n",
    "print(predicted_urgency)"
   ]
  },
  {
   "cell_type": "code",
   "execution_count": 9,
   "metadata": {},
   "outputs": [
    {
     "name": "stdout",
     "output_type": "stream",
     "text": [
      "['3']\n"
     ]
    }
   ],
   "source": [
    "impact_title = clf_model[1][0].predict(title)\n",
    "impact_body = clf_model[1][1].predict(body)\n",
    "impact_category = clf_model[1][2].predict(category)\n",
    "impact_business_service = clf_model[1][0].predict(business_service)\n",
    "\n",
    "impact_data = {\"title\":impact_title,\n",
    "                \"body\":impact_body,\n",
    "                \"category\":impact_category,\n",
    "                \"business service\":impact_business_service,\n",
    "                \"result\":None}\n",
    "\n",
    "impact_df = pd.DataFrame(impact_data)\n",
    "\n",
    "impact_vars = impact_df.iloc[:,:-1]\n",
    "\n",
    "impact_model = pickle.load(open('./pickle/'+classifier+'_impact_weight_model.pickle',\"rb\"))\n",
    "predicted_impact = impact_model.predict(impact_vars)\n",
    "print(predicted_impact)"
   ]
  },
  {
   "cell_type": "code",
   "execution_count": 14,
   "metadata": {},
   "outputs": [],
   "source": [
    "final_data = {\"urgency\":predicted_urgency,\n",
    "              \"impact\":predicted_impact,\n",
    "              \"result\":None}\n",
    "\n",
    "final_df = pd.DataFrame(final_data)\n",
    "\n",
    "final_vars = final_df.iloc[:,:-1]\n",
    "\n",
    "final_model = pickle.load(open('./pickle/'+classifier+'_priority_model.pickle',\"rb\"))\n",
    "\n",
    "priority = final_model.predict(final_vars)"
   ]
  },
  {
   "cell_type": "code",
   "execution_count": 15,
   "metadata": {},
   "outputs": [
    {
     "name": "stdout",
     "output_type": "stream",
     "text": [
      "Priority: ['3']\n"
     ]
    }
   ],
   "source": [
    "print(\"Priority:\",priority)"
   ]
  }
 ],
 "metadata": {
  "kernelspec": {
   "display_name": "Python 3",
   "language": "python",
   "name": "python3"
  },
  "language_info": {
   "codemirror_mode": {
    "name": "ipython",
    "version": 3
   },
   "file_extension": ".py",
   "mimetype": "text/x-python",
   "name": "python",
   "nbconvert_exporter": "python",
   "pygments_lexer": "ipython3",
   "version": "3.7.4"
  }
 },
 "nbformat": 4,
 "nbformat_minor": 2
}

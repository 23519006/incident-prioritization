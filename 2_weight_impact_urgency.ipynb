{
 "cells": [
  {
   "cell_type": "markdown",
   "metadata": {},
   "source": [
    "## Import libs"
   ]
  },
  {
   "cell_type": "code",
   "execution_count": null,
   "metadata": {},
   "outputs": [],
   "source": [
    "import sys\n",
    "import nltk\n",
    "import numpy as np\n",
    "import pandas as pd\n",
    "import pickle\n",
    "import csv\n",
    "# from helpers import *\n",
    "from nltk.stem.snowball import SnowballStemmer\n",
    "from sklearn.feature_extraction.text import CountVectorizer, TfidfTransformer\n",
    "from sklearn.linear_model import SGDClassifier\n",
    "from sklearn.model_selection import GridSearchCV, train_test_split\n",
    "from sklearn.naive_bayes import MultinomialNB\n",
    "from sklearn.tree import DecisionTreeClassifier\n",
    "from sklearn.svm import SVC\n",
    "from sklearn.neighbors import KNeighborsClassifier\n",
    "\n",
    "from imblearn.over_sampling import RandomOverSampler\n",
    "from imblearn.under_sampling import RandomUnderSampler\n",
    "from imblearn.pipeline import Pipeline\n",
    "\n",
    "from sklearn import metrics\n",
    "import os\n",
    "from matplotlib import pyplot as plt\n",
    "sys.path.append(\".\")\n",
    "sys.path.append(\"..\")\n",
    "# Use the Azure Machine Learning data preparation package\n",
    "# from azureml.dataprep import package"
   ]
  },
  {
   "cell_type": "markdown",
   "metadata": {},
   "source": [
    "## Load dataset"
   ]
  },
  {
   "cell_type": "code",
   "execution_count": null,
   "metadata": {},
   "outputs": [],
   "source": [
    "dfTickets = pd.read_csv(\n",
    "    './datasets/all_tickets.csv',\n",
    "    dtype=str\n",
    ")"
   ]
  },
  {
   "cell_type": "markdown",
   "metadata": {},
   "source": [
    "## Set params"
   ]
  },
  {
   "cell_type": "code",
   "execution_count": null,
   "metadata": {},
   "outputs": [],
   "source": [
    "column_to_predict = \"impact\"\n",
    "classifier = \"SVM\""
   ]
  },
  {
   "cell_type": "markdown",
   "metadata": {},
   "source": [
    "### Load Model - Title"
   ]
  },
  {
   "cell_type": "code",
   "execution_count": null,
   "metadata": {},
   "outputs": [],
   "source": [
    "text_columns = \"title\"\n",
    "if classifier == \"KNN\":\n",
    "    gs_clf_model = pickle.load(open('./pickle/text_'+classifier+'_'+text_columns+'_'+column_to_predict+'_model.pickle',\"rb\"))\n",
    "else:\n",
    "    gs_clf_model = pickle.load(open('./pickle/gs_'+classifier+'_'+text_columns+'_'+column_to_predict+'_model.pickle',\"rb\"))\n",
    "test_input_data = dfTickets[text_columns]"
   ]
  },
  {
   "cell_type": "code",
   "execution_count": null,
   "metadata": {
    "scrolled": true
   },
   "outputs": [],
   "source": [
    "prediction_input = gs_clf_model.predict(test_input_data)\n",
    "resultList = []\n",
    "i = 0\n",
    "for result in prediction_input:\n",
    "#     print(result)\n",
    "    resultList.append(result)\n",
    "#     if i == 5:\n",
    "#         break\n",
    "    i+=1"
   ]
  },
  {
   "cell_type": "markdown",
   "metadata": {},
   "source": [
    "### Save to data CSV - Title"
   ]
  },
  {
   "cell_type": "code",
   "execution_count": null,
   "metadata": {},
   "outputs": [],
   "source": [
    "filename = \"./test data/pembobotan.csv\"\n",
    "data = pd.read_csv(filename)\n",
    "\n",
    "x = data[text_columns]\n",
    "cell=[]\n",
    "\n",
    "for fill in resultList:\n",
    "#     print(fill)\n",
    "    cell.append(fill)\n",
    "    \n",
    "data[text_columns] = cell\n",
    "\n",
    "data.to_csv(r\"./test data/pembobotan_\"+classifier+\"_\"+column_to_predict+\".csv\",index=False)"
   ]
  },
  {
   "cell_type": "markdown",
   "metadata": {},
   "source": [
    "### Load Model - Body"
   ]
  },
  {
   "cell_type": "code",
   "execution_count": null,
   "metadata": {},
   "outputs": [],
   "source": [
    "text_columns = \"body\"\n",
    "if classifier == \"KNN\":\n",
    "    gs_clf_model = pickle.load(open('./pickle/text_'+classifier+'_'+text_columns+'_'+column_to_predict+'_model.pickle',\"rb\"))\n",
    "else:\n",
    "    gs_clf_model = pickle.load(open('./pickle/gs_'+classifier+'_'+text_columns+'_'+column_to_predict+'_model.pickle',\"rb\"))\n",
    "test_input_data = dfTickets[text_columns]"
   ]
  },
  {
   "cell_type": "code",
   "execution_count": null,
   "metadata": {
    "scrolled": true
   },
   "outputs": [],
   "source": [
    "prediction_input = gs_clf_model.predict(test_input_data)\n",
    "resultList = []\n",
    "i = 0\n",
    "for result in prediction_input:\n",
    "#     print(result)\n",
    "    resultList.append(result)\n",
    "#     if i == 5:\n",
    "#         break\n",
    "    i+=1"
   ]
  },
  {
   "cell_type": "markdown",
   "metadata": {},
   "source": [
    "### Save to data CSV - Body"
   ]
  },
  {
   "cell_type": "code",
   "execution_count": null,
   "metadata": {},
   "outputs": [],
   "source": [
    "filename = \"./test data/pembobotan_\"+classifier+\"_\"+column_to_predict+\".csv\"\n",
    "data = pd.read_csv(filename)\n",
    "\n",
    "x = data[text_columns]\n",
    "cell=[]\n",
    "\n",
    "for fill in resultList:\n",
    "#     print(fill)\n",
    "    cell.append(fill)\n",
    "    \n",
    "data[text_columns] = cell\n",
    "\n",
    "data.to_csv(r\"./test data/pembobotan_\"+classifier+\"_\"+column_to_predict+\".csv\",index=False)"
   ]
  },
  {
   "cell_type": "markdown",
   "metadata": {},
   "source": [
    "### Load Model - Category"
   ]
  },
  {
   "cell_type": "code",
   "execution_count": null,
   "metadata": {},
   "outputs": [],
   "source": [
    "text_columns = \"category\"\n",
    "if classifier == \"KNN\":\n",
    "    gs_clf_model = pickle.load(open('./pickle/text_'+classifier+'_'+text_columns+'_'+column_to_predict+'_model.pickle',\"rb\"))\n",
    "else:\n",
    "    gs_clf_model = pickle.load(open('./pickle/gs_'+classifier+'_'+text_columns+'_'+column_to_predict+'_model.pickle',\"rb\"))\n",
    "test_input_data = dfTickets[text_columns]"
   ]
  },
  {
   "cell_type": "code",
   "execution_count": null,
   "metadata": {
    "scrolled": true
   },
   "outputs": [],
   "source": [
    "prediction_input = gs_clf_model.predict(test_input_data)\n",
    "resultList = []\n",
    "i = 0\n",
    "for result in prediction_input:\n",
    "#     print(result)\n",
    "    resultList.append(result)\n",
    "#     if i == 5:\n",
    "#         break\n",
    "    i+=1"
   ]
  },
  {
   "cell_type": "markdown",
   "metadata": {},
   "source": [
    "### Save to data CSV - Category"
   ]
  },
  {
   "cell_type": "code",
   "execution_count": null,
   "metadata": {},
   "outputs": [],
   "source": [
    "filename = \"./test data/pembobotan_\"+classifier+\"_\"+column_to_predict+\".csv\"\n",
    "data = pd.read_csv(filename)\n",
    "\n",
    "x = data[text_columns]\n",
    "cell=[]\n",
    "\n",
    "for fill in resultList:\n",
    "#     print(fill)\n",
    "    cell.append(fill)\n",
    "    \n",
    "data[text_columns] = cell\n",
    "\n",
    "data.to_csv(r\"./test data/pembobotan_\"+classifier+\"_\"+column_to_predict+\".csv\",index=False)"
   ]
  },
  {
   "cell_type": "markdown",
   "metadata": {},
   "source": [
    "### Load Model - Business Service"
   ]
  },
  {
   "cell_type": "code",
   "execution_count": null,
   "metadata": {},
   "outputs": [],
   "source": [
    "text_columns = \"business_service\"\n",
    "if classifier == \"KNN\":\n",
    "    gs_clf_model = pickle.load(open('./pickle/text_'+classifier+'_'+text_columns+'_'+column_to_predict+'_model.pickle',\"rb\"))\n",
    "else:\n",
    "    gs_clf_model = pickle.load(open('./pickle/gs_'+classifier+'_'+text_columns+'_'+column_to_predict+'_model.pickle',\"rb\"))\n",
    "test_input_data = dfTickets[text_columns]"
   ]
  },
  {
   "cell_type": "code",
   "execution_count": null,
   "metadata": {
    "scrolled": true
   },
   "outputs": [],
   "source": [
    "prediction_input = gs_clf_model.predict(test_input_data)\n",
    "resultList = []\n",
    "i = 0\n",
    "for result in prediction_input:\n",
    "#     print(result)\n",
    "    resultList.append(result)\n",
    "#     if i == 5:\n",
    "#         break\n",
    "    i+=1"
   ]
  },
  {
   "cell_type": "markdown",
   "metadata": {},
   "source": [
    "### Save to data CSV - Business Service"
   ]
  },
  {
   "cell_type": "code",
   "execution_count": null,
   "metadata": {},
   "outputs": [],
   "source": [
    "filename = \"./test data/pembobotan_\"+classifier+\"_\"+column_to_predict+\".csv\"\n",
    "data = pd.read_csv(filename)\n",
    "\n",
    "x = data[text_columns]\n",
    "cell=[]\n",
    "\n",
    "for fill in resultList:\n",
    "#     print(fill)\n",
    "    cell.append(fill)\n",
    "    \n",
    "data[text_columns] = cell\n",
    "\n",
    "data.to_csv(r\"./test data/pembobotan_\"+classifier+\"_\"+column_to_predict+\".csv\",index=False)"
   ]
  }
 ],
 "metadata": {
  "kernelspec": {
   "display_name": "Python 3",
   "language": "python",
   "name": "python3"
  },
  "language_info": {
   "codemirror_mode": {
    "name": "ipython",
    "version": 3
   },
   "file_extension": ".py",
   "mimetype": "text/x-python",
   "name": "python",
   "nbconvert_exporter": "python",
   "pygments_lexer": "ipython3",
   "version": "3.7.5"
  }
 },
 "nbformat": 4,
 "nbformat_minor": 2
}

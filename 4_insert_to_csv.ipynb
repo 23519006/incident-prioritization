{
 "cells": [
  {
   "cell_type": "markdown",
   "metadata": {},
   "source": [
    "# Imports"
   ]
  },
  {
   "cell_type": "code",
   "execution_count": 1,
   "metadata": {},
   "outputs": [],
   "source": [
    "import sys\n",
    "import nltk\n",
    "import numpy as np\n",
    "import pandas as pd\n",
    "import pickle\n",
    "import os\n",
    "\n",
    "from sklearn.model_selection import train_test_split\n",
    "from sklearn import metrics\n",
    "from matplotlib import pyplot as plt\n",
    "\n",
    "sys.path.append(\".\")\n",
    "sys.path.append(\"..\")"
   ]
  },
  {
   "cell_type": "markdown",
   "metadata": {},
   "source": [
    "# Set Params"
   ]
  },
  {
   "cell_type": "code",
   "execution_count": 2,
   "metadata": {},
   "outputs": [],
   "source": [
    "# Classifier\n",
    "classifier = \"SVM\"\n",
    "# Supported algorithms\n",
    "# \"DT\"\n",
    "# \"NB\"\n",
    "# \"SVM\""
   ]
  },
  {
   "cell_type": "markdown",
   "metadata": {},
   "source": [
    "# Load and Split Impact Data"
   ]
  },
  {
   "cell_type": "code",
   "execution_count": 3,
   "metadata": {},
   "outputs": [],
   "source": [
    "dfTickets = pd.read_csv(\n",
    "    \"./generated data/weight_\"+classifier+\"_impact.csv\",\n",
    "    dtype=str\n",
    ")\n",
    "\n",
    "dic = {'summary': dfTickets[\"summary\"].values,\n",
    "       'description': dfTickets[\"description\"].values,\n",
    "       'impact' : dfTickets[\"impact\"].values}\n",
    "\n",
    "df = pd.DataFrame(dic)\n",
    "\n",
    "variables = df.iloc[:,:-1]\n",
    "results = df.iloc[:,-1]\n",
    "\n",
    "train_data, test_data, train_labels, test_labels = train_test_split(\n",
    "    variables, results, test_size=0.2\n",
    ")"
   ]
  },
  {
   "cell_type": "markdown",
   "metadata": {},
   "source": [
    "# Load and Split Urgency Data"
   ]
  },
  {
   "cell_type": "code",
   "execution_count": 4,
   "metadata": {},
   "outputs": [],
   "source": [
    "dfTickets = pd.read_csv(\n",
    "    \"./generated data/weight_\"+classifier+\"_urgency.csv\",\n",
    "    dtype=str\n",
    ")\n",
    "\n",
    "dic = {'summary': dfTickets[\"summary\"].values,\n",
    "       'description': dfTickets[\"description\"].values,\n",
    "       'urgency' : dfTickets[\"urgency\"].values}\n",
    "\n",
    "df = pd.DataFrame(dic)\n",
    "\n",
    "variables = df.iloc[:,:-1]\n",
    "results = df.iloc[:,-1]\n",
    "\n",
    "train_data, test_data, train_labels, test_labels = train_test_split(\n",
    "    variables, results, test_size=0.2\n",
    ")"
   ]
  },
  {
   "cell_type": "markdown",
   "metadata": {},
   "source": [
    "# Predict Impact"
   ]
  },
  {
   "cell_type": "code",
   "execution_count": 5,
   "metadata": {},
   "outputs": [],
   "source": [
    "clf = pickle.load(open('./model/'+classifier+'_impact_weight_model.pickle',\"rb\"))\n",
    "predicted_impact = clf.predict(variables)"
   ]
  },
  {
   "cell_type": "markdown",
   "metadata": {},
   "source": [
    "# Predict Urgency"
   ]
  },
  {
   "cell_type": "code",
   "execution_count": 6,
   "metadata": {},
   "outputs": [],
   "source": [
    "clf = pickle.load(open('./model/'+classifier+'_urgency_weight_model.pickle',\"rb\"))\n",
    "predicted_urgency = clf.predict(variables)"
   ]
  },
  {
   "cell_type": "markdown",
   "metadata": {},
   "source": [
    "# Save to CSV"
   ]
  },
  {
   "cell_type": "code",
   "execution_count": 7,
   "metadata": {},
   "outputs": [],
   "source": [
    "resultListImpact = []\n",
    "i = 0\n",
    "for result in predicted_impact:\n",
    "    resultListImpact.append(result)\n",
    "    i+=1"
   ]
  },
  {
   "cell_type": "code",
   "execution_count": 8,
   "metadata": {},
   "outputs": [],
   "source": [
    "resultListUrgency = []\n",
    "i = 0\n",
    "for result in predicted_urgency:\n",
    "    resultListUrgency.append(result)\n",
    "    i+=1"
   ]
  },
  {
   "cell_type": "code",
   "execution_count": 9,
   "metadata": {},
   "outputs": [],
   "source": [
    "filename = \"./generated data/output.csv\"\n",
    "    \n",
    "data = pd.read_csv(filename)\n",
    "\n",
    "cell=[]\n",
    "\n",
    "for fill in resultListImpact:\n",
    "    cell.append(fill)\n",
    "    \n",
    "data[\"impact\"] = cell\n",
    "\n",
    "cell=[]\n",
    "\n",
    "for fill in resultListUrgency:\n",
    "    cell.append(fill)\n",
    "    \n",
    "data[\"urgency\"] = cell\n",
    "\n",
    "data.to_csv(r\"./generated data/\"+classifier+\"_output.csv\",index=False)"
   ]
  }
 ],
 "metadata": {
  "kernelspec": {
   "display_name": "Python 3",
   "language": "python",
   "name": "python3"
  },
  "language_info": {
   "codemirror_mode": {
    "name": "ipython",
    "version": 3
   },
   "file_extension": ".py",
   "mimetype": "text/x-python",
   "name": "python",
   "nbconvert_exporter": "python",
   "pygments_lexer": "ipython3",
   "version": "3.8.1"
  }
 },
 "nbformat": 4,
 "nbformat_minor": 2
}

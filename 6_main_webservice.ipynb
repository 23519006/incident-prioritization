{
 "cells": [
  {
   "cell_type": "code",
   "execution_count": 1,
   "metadata": {},
   "outputs": [],
   "source": [
    "import sys\n",
    "import csv\n",
    "import pickle\n",
    "import pandas as pd\n",
    "import requests\n",
    "import json\n",
    "\n",
    "from flask import Flask, request\n",
    "from nltk.stem.snowball import SnowballStemmer\n",
    "from sklearn.feature_extraction.text import CountVectorizer, TfidfTransformer\n",
    "from sklearn.linear_model import SGDClassifier\n",
    "from sklearn.model_selection import GridSearchCV, train_test_split\n",
    "from sklearn.naive_bayes import MultinomialNB\n",
    "from sklearn.tree import DecisionTreeClassifier\n",
    "from sklearn.svm import SVC\n",
    "from sklearn.neighbors import KNeighborsClassifier\n",
    "from requests.auth import HTTPBasicAuth"
   ]
  },
  {
   "cell_type": "code",
   "execution_count": 2,
   "metadata": {},
   "outputs": [
    {
     "name": "stdout",
     "output_type": "stream",
     "text": [
      " * Serving Flask app \"__main__\" (lazy loading)\n",
      " * Environment: production\n",
      "   WARNING: This is a development server. Do not use it in a production deployment.\n",
      "   Use a production WSGI server instead.\n",
      " * Debug mode: on\n"
     ]
    },
    {
     "name": "stderr",
     "output_type": "stream",
     "text": [
      " * Restarting with stat\n"
     ]
    },
    {
     "ename": "SystemExit",
     "evalue": "1",
     "output_type": "error",
     "traceback": [
      "An exception has occurred, use %tb to see the full traceback.\n",
      "\u001b[1;31mSystemExit\u001b[0m\u001b[1;31m:\u001b[0m 1\n"
     ]
    },
    {
     "name": "stderr",
     "output_type": "stream",
     "text": [
      "c:\\users\\e490\\appdata\\local\\programs\\python\\python38\\lib\\site-packages\\IPython\\core\\interactiveshell.py:3339: UserWarning: To exit: use 'exit', 'quit', or Ctrl-D.\n",
      "  warn(\"To exit: use 'exit', 'quit', or Ctrl-D.\", stacklevel=1)\n"
     ]
    }
   ],
   "source": [
    "app = Flask(__name__)\n",
    "\n",
    "@app.route(\"/\", methods=[\"GET\"])\n",
    "def index():\n",
    "  return \"\"\"\n",
    "        <html>\n",
    "        <head>\n",
    "        <title>Incident Prioritization</title>\n",
    "        </head>\n",
    "        <body>\n",
    "        Hello, World!<br>\n",
    "        This is a web service written in Python using <a href=\"\"http://flask.pocoo.org/\"\">Flask</a> module for incident prioritization by 23519006.<br>\n",
    "        </body>\n",
    "        </html>\n",
    "        \"\"\"\n",
    "\n",
    "@app.route(\"/predict\", methods=[\"GET\", \"POST\"])\n",
    "def predict():\n",
    "  classifier = 'DT'\n",
    "\n",
    "  # Loading models\n",
    "  model_summary_impact = pickle.load(open('./model/'+classifier+'_summary_impact_model.pickle',\"rb\"))\n",
    "  model_description_impact = pickle.load(open('./model/'+classifier+'_description_impact_model.pickle',\"rb\"))\n",
    "  model_summary_urgency = pickle.load(open('./model/'+classifier+'_summary_urgency_model.pickle',\"rb\"))\n",
    "  model_description_urgency = pickle.load(open('./model/'+classifier+'_description_urgency_model.pickle',\"rb\"))\n",
    "  priority_model = pickle.load(open('./model/'+classifier+'_priority_model.pickle',\"rb\"))\n",
    "\n",
    "  data = request.get_json()\n",
    "  summary = data[\"issue\"][\"fields\"][\"summary\"]\n",
    "  description = data[\"issue\"][\"fields\"][\"description\"]\n",
    "  idIssue = data[\"issue\"][\"id\"]\n",
    "  key = data[\"issue\"][\"key\"]\n",
    "\n",
    "  summary =  {\"summary\":[summary]}\n",
    "  description = {\"description\":[description]}\n",
    "\n",
    "  # Predict impact\n",
    "  impact_model = pickle.load(open('./model/'+classifier+'_impact_weight_model.pickle',\"rb\"))\n",
    "  summary_impact = model_summary_impact.predict(summary)\n",
    "  description_impact = model_description_impact.predict(description)\n",
    "  impact_data = {\"summary\" : [summary_impact],\"description\" : [description_impact],\"result\" : None}\n",
    "  impact_df = pd.DataFrame(impact_data)\n",
    "  impact_vars = impact_df.iloc[:,:-1]\n",
    "  predicted_impact = impact_model.predict(impact_vars)\n",
    "\n",
    "  # Predict urgency\n",
    "  urgency_model = pickle.load(open('./model/'+classifier+'_urgency_weight_model.pickle',\"rb\"))\n",
    "  summary_urgency = model_summary_urgency.predict(summary)\n",
    "  description_urgency = model_description_urgency.predict(description)\n",
    "  urgency_data = {\"summary\" : [summary_urgency],\"description\" : [description_urgency],\"result\" : None}\n",
    "  urgency_df = pd.DataFrame(urgency_data)\n",
    "  urgency_vars = urgency_df.iloc[:,:-1]\n",
    "  predicted_urgency = urgency_model.predict(urgency_vars)\n",
    "\n",
    "  # Predict priority\n",
    "  priority_data = {\"urgency\" : predicted_urgency,\"impact\" : predicted_impact,\"result\" : None}   \n",
    "  priority_df = pd.DataFrame(priority_data)\n",
    "  priority_vars = priority_df.iloc[:,:-1]\n",
    "  predicted_priority = priority_model.predict(priority_vars)\n",
    "\n",
    "  # Final variables\n",
    "  final_summary = summary[\"summary\"][0].lower()\n",
    "  final_description = description[\"description\"][0].lower()\n",
    "  symbols = [\"/\",\"?\",\"<\",\".\",\"!\",\",\",\"[\",\"]\",\"(\",\")\",\"{\",\"}\",\"`\",\"/\",\"*\",\"-\",\"+\"]\n",
    "  for symbol in symbols:\n",
    "    final_summary = final_summary.replace(symbol,\"\")\n",
    "    final_description = final_description.replace(symbol,\"\")\n",
    "  final_urgency = priority_data[\"urgency\"][0]\n",
    "  final_impact = priority_data[\"impact\"][0]\n",
    "  final_priority = predicted_priority[0]\n",
    "\n",
    "  # Print\n",
    "  print(\"Issue ID         :\",idIssue)\n",
    "  print(\"Issue Key        :\",key)\n",
    "  print(\"Summary          :\",final_summary)\n",
    "  print(\"Description      :\",final_description)\n",
    "  print(\"Urgency          :\",final_urgency)\n",
    "  print(\"Impact           :\",final_impact)\n",
    "  print(\"Priority         :\",final_priority)\n",
    "\n",
    "  # Update the ticket\n",
    "  headers = {\"Accept\": \"application/json\", \"Content-Type\": \"application/json\"}\n",
    "  payload = json.dumps({\"fields\":{\"priority\" : {\"name\" : final_priority}, \"customfield_10091\" : {\"value\" : final_urgency},\"customfield_10004\" : {\"value\" : final_impact}}})\n",
    "  url = \"https://tesang.atlassian.net/rest/api/3/issue/\"+idIssue\n",
    "  auth = HTTPBasicAuth(\"23519006@std.stei.itb.ac.id\",\"m7qO60tWTnrssvCX6iIu4C2B\")\n",
    "  response = requests.request(\"PUT\",url,data=payload,headers=headers,auth=auth)\n",
    "  print(json.dumps(json.loads(response.text), sort_keys=True, indent=4, separators=(\",\", \": \")))\n",
    "\n",
    "  return \"Predict\"\n",
    "\n",
    "if __name__ == \"__main__\":\n",
    "  app.run(host=\"0.0.0.0\", port=5000, debug=True)"
   ]
  }
 ],
 "metadata": {
  "kernelspec": {
   "display_name": "Python 3",
   "language": "python",
   "name": "python3"
  },
  "language_info": {
   "codemirror_mode": {
    "name": "ipython",
    "version": 3
   },
   "file_extension": ".py",
   "mimetype": "text/x-python",
   "name": "python",
   "nbconvert_exporter": "python",
   "pygments_lexer": "ipython3",
   "version": "3.8.1"
  }
 },
 "nbformat": 4,
 "nbformat_minor": 4
}
